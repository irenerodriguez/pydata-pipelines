{
 "cells": [
  {
   "cell_type": "code",
   "execution_count": 1,
   "id": "9ab13852-a3c0-44d0-bb03-32aa92287495",
   "metadata": {},
   "outputs": [
    {
     "name": "stderr",
     "output_type": "stream",
     "text": [
      "/var/folders/vj/99bcmf5n4vlfs7qdf72qx4500000gp/T/ipykernel_8371/4074491367.py:4: DeprecationWarning: \n",
      "Pyarrow will become a required dependency of pandas in the next major release of pandas (pandas 3.0),\n",
      "(to allow more performant data types, such as the Arrow string type, and better interoperability with other libraries)\n",
      "but was not found to be installed on your system.\n",
      "If this would cause problems for you,\n",
      "please provide us feedback at https://github.com/pandas-dev/pandas/issues/54466\n",
      "        \n",
      "  import pandas as pd\n"
     ]
    }
   ],
   "source": [
    "import os\n",
    "import pickle\n",
    "import numpy as np\n",
    "import pandas as pd"
   ]
  },
  {
   "cell_type": "code",
   "execution_count": 2,
   "id": "f7ec53e1-7cc3-4ff9-814e-1b957d0b7a1c",
   "metadata": {},
   "outputs": [
    {
     "data": {
      "text/html": [
       "<div>\n",
       "<style scoped>\n",
       "    .dataframe tbody tr th:only-of-type {\n",
       "        vertical-align: middle;\n",
       "    }\n",
       "\n",
       "    .dataframe tbody tr th {\n",
       "        vertical-align: top;\n",
       "    }\n",
       "\n",
       "    .dataframe thead th {\n",
       "        text-align: right;\n",
       "    }\n",
       "</style>\n",
       "<table border=\"1\" class=\"dataframe\">\n",
       "  <thead>\n",
       "    <tr style=\"text-align: right;\">\n",
       "      <th></th>\n",
       "      <th>n_medio_productos</th>\n",
       "      <th>impago</th>\n",
       "      <th>tipo_antiguedad</th>\n",
       "    </tr>\n",
       "  </thead>\n",
       "  <tbody>\n",
       "    <tr>\n",
       "      <th>0</th>\n",
       "      <td>1.20</td>\n",
       "      <td>0</td>\n",
       "      <td>senior</td>\n",
       "    </tr>\n",
       "    <tr>\n",
       "      <th>1</th>\n",
       "      <td>1.40</td>\n",
       "      <td>0</td>\n",
       "      <td>senior</td>\n",
       "    </tr>\n",
       "    <tr>\n",
       "      <th>2</th>\n",
       "      <td>1.55</td>\n",
       "      <td>0</td>\n",
       "      <td>master</td>\n",
       "    </tr>\n",
       "    <tr>\n",
       "      <th>3</th>\n",
       "      <td>1.60</td>\n",
       "      <td>0</td>\n",
       "      <td>master</td>\n",
       "    </tr>\n",
       "    <tr>\n",
       "      <th>4</th>\n",
       "      <td>1.45</td>\n",
       "      <td>0</td>\n",
       "      <td>master</td>\n",
       "    </tr>\n",
       "  </tbody>\n",
       "</table>\n",
       "</div>"
      ],
      "text/plain": [
       "   n_medio_productos  impago tipo_antiguedad\n",
       "0               1.20       0          senior\n",
       "1               1.40       0          senior\n",
       "2               1.55       0          master\n",
       "3               1.60       0          master\n",
       "4               1.45       0          master"
      ]
     },
     "execution_count": 2,
     "metadata": {},
     "output_type": "execute_result"
    }
   ],
   "source": [
    "data = pd.read_csv(\"../data/toy_example.csv\")\n",
    "data.iloc[[10,48,61], 0] = np.nan\n",
    "data.iloc[[22, 34], 1] = np.nan\n",
    "data['tipo_antiguedad'] = pd.cut(data['antiguedad'], bins=[0, 1, 3, 6, 100], include_lowest=True,\n",
    "                                 labels=['first_year', 'junior', 'senior', 'master'])\n",
    "data.drop(columns=['antiguedad'], inplace=True)\n",
    "data.head()"
   ]
  },
  {
   "cell_type": "code",
   "execution_count": 3,
   "id": "e99d3017-21f8-4d19-9af4-a6c5ab6a701a",
   "metadata": {},
   "outputs": [],
   "source": [
    "from sklearn.model_selection import train_test_split\n",
    "\n",
    "X = data.drop(columns='impago').copy()\n",
    "y = data['impago'].copy()\n",
    "\n",
    "# FIX a random_state to make your pipeline reproducible!\n",
    "X_train, X_test, y_train, y_test = train_test_split(X, y, test_size=0.2, random_state=42)"
   ]
  },
  {
   "cell_type": "markdown",
   "id": "b47adda8-f51c-465c-a9e6-47805e1ae85d",
   "metadata": {},
   "source": [
    "## ColumnTransformer"
   ]
  },
  {
   "cell_type": "code",
   "execution_count": 9,
   "id": "c8bc767e-8954-4b92-8ce9-48bef2e4d7c4",
   "metadata": {},
   "outputs": [],
   "source": [
    "from sklearn.compose import ColumnTransformer\n",
    "from sklearn.pipeline import Pipeline\n",
    "from sklearn.impute import SimpleImputer\n",
    "from sklearn.preprocessing import StandardScaler, OneHotEncoder\n",
    "from sklearn.feature_selection import SelectKBest, f_classif \n",
    "from sklearn.linear_model import LogisticRegression\n",
    "from sklearn.neighbors import KNeighborsClassifier\n",
    "from sklearn.model_selection import GridSearchCV\n",
    "from sklearn import set_config"
   ]
  },
  {
   "cell_type": "code",
   "execution_count": 10,
   "id": "cf2aecae-2b92-4dc7-9c45-cfeeac055533",
   "metadata": {},
   "outputs": [
    {
     "data": {
      "text/html": [
       "<div>\n",
       "<style scoped>\n",
       "    .dataframe tbody tr th:only-of-type {\n",
       "        vertical-align: middle;\n",
       "    }\n",
       "\n",
       "    .dataframe tbody tr th {\n",
       "        vertical-align: top;\n",
       "    }\n",
       "\n",
       "    .dataframe thead th {\n",
       "        text-align: right;\n",
       "    }\n",
       "</style>\n",
       "<table border=\"1\" class=\"dataframe\">\n",
       "  <thead>\n",
       "    <tr style=\"text-align: right;\">\n",
       "      <th></th>\n",
       "      <th>param_feature_selection__k</th>\n",
       "      <th>param_classifier</th>\n",
       "      <th>param_classifier__n_neighbors</th>\n",
       "      <th>param_classifier__C</th>\n",
       "      <th>mean_train_score</th>\n",
       "      <th>mean_test_score</th>\n",
       "      <th>rank_test_score</th>\n",
       "    </tr>\n",
       "  </thead>\n",
       "  <tbody>\n",
       "    <tr>\n",
       "      <th>1</th>\n",
       "      <td>2</td>\n",
       "      <td>KNeighborsClassifier(n_neighbors=1)</td>\n",
       "      <td>1</td>\n",
       "      <td>NaN</td>\n",
       "      <td>0.67098</td>\n",
       "      <td>0.670769</td>\n",
       "      <td>1</td>\n",
       "    </tr>\n",
       "    <tr>\n",
       "      <th>3</th>\n",
       "      <td>2</td>\n",
       "      <td>KNeighborsClassifier(n_neighbors=1)</td>\n",
       "      <td>3</td>\n",
       "      <td>NaN</td>\n",
       "      <td>0.67098</td>\n",
       "      <td>0.670769</td>\n",
       "      <td>1</td>\n",
       "    </tr>\n",
       "    <tr>\n",
       "      <th>5</th>\n",
       "      <td>2</td>\n",
       "      <td>KNeighborsClassifier(n_neighbors=1)</td>\n",
       "      <td>5</td>\n",
       "      <td>NaN</td>\n",
       "      <td>0.67098</td>\n",
       "      <td>0.670769</td>\n",
       "      <td>1</td>\n",
       "    </tr>\n",
       "  </tbody>\n",
       "</table>\n",
       "</div>"
      ],
      "text/plain": [
       "  param_feature_selection__k                     param_classifier  \\\n",
       "1                          2  KNeighborsClassifier(n_neighbors=1)   \n",
       "3                          2  KNeighborsClassifier(n_neighbors=1)   \n",
       "5                          2  KNeighborsClassifier(n_neighbors=1)   \n",
       "\n",
       "  param_classifier__n_neighbors param_classifier__C  mean_train_score  \\\n",
       "1                             1                 NaN           0.67098   \n",
       "3                             3                 NaN           0.67098   \n",
       "5                             5                 NaN           0.67098   \n",
       "\n",
       "   mean_test_score  rank_test_score  \n",
       "1         0.670769                1  \n",
       "3         0.670769                1  \n",
       "5         0.670769                1  "
      ]
     },
     "metadata": {},
     "output_type": "display_data"
    },
    {
     "name": "stdout",
     "output_type": "stream",
     "text": [
      "{'memory': None, 'steps': [('preprocess', ColumnTransformer(transformers=[('continuous',\n",
      "                                 Pipeline(steps=[('scaler', StandardScaler()),\n",
      "                                                 ('imputer', SimpleImputer())]),\n",
      "                                 ['n_medio_productos']),\n",
      "                                ('categorical',\n",
      "                                 Pipeline(steps=[('imputer',\n",
      "                                                  SimpleImputer(strategy='most_frequent')),\n",
      "                                                 ('codification',\n",
      "                                                  OneHotEncoder())]),\n",
      "                                 ['tipo_antiguedad'])])), ('feature_selection', SelectKBest(k=2)), ('classifier', KNeighborsClassifier(n_neighbors=1))], 'verbose': False, 'preprocess': ColumnTransformer(transformers=[('continuous',\n",
      "                                 Pipeline(steps=[('scaler', StandardScaler()),\n",
      "                                                 ('imputer', SimpleImputer())]),\n",
      "                                 ['n_medio_productos']),\n",
      "                                ('categorical',\n",
      "                                 Pipeline(steps=[('imputer',\n",
      "                                                  SimpleImputer(strategy='most_frequent')),\n",
      "                                                 ('codification',\n",
      "                                                  OneHotEncoder())]),\n",
      "                                 ['tipo_antiguedad'])]), 'feature_selection': SelectKBest(k=2), 'classifier': KNeighborsClassifier(n_neighbors=1), 'preprocess__n_jobs': None, 'preprocess__remainder': 'drop', 'preprocess__sparse_threshold': 0.3, 'preprocess__transformer_weights': None, 'preprocess__transformers': [('continuous', Pipeline(steps=[('scaler', StandardScaler()), ('imputer', SimpleImputer())]), ['n_medio_productos']), ('categorical', Pipeline(steps=[('imputer', SimpleImputer(strategy='most_frequent')),\n",
      "                ('codification', OneHotEncoder())]), ['tipo_antiguedad'])], 'preprocess__verbose': False, 'preprocess__verbose_feature_names_out': True, 'preprocess__continuous': Pipeline(steps=[('scaler', StandardScaler()), ('imputer', SimpleImputer())]), 'preprocess__categorical': Pipeline(steps=[('imputer', SimpleImputer(strategy='most_frequent')),\n",
      "                ('codification', OneHotEncoder())]), 'preprocess__continuous__memory': None, 'preprocess__continuous__steps': [('scaler', StandardScaler()), ('imputer', SimpleImputer())], 'preprocess__continuous__verbose': False, 'preprocess__continuous__scaler': StandardScaler(), 'preprocess__continuous__imputer': SimpleImputer(), 'preprocess__continuous__scaler__copy': True, 'preprocess__continuous__scaler__with_mean': True, 'preprocess__continuous__scaler__with_std': True, 'preprocess__continuous__imputer__add_indicator': False, 'preprocess__continuous__imputer__copy': True, 'preprocess__continuous__imputer__fill_value': None, 'preprocess__continuous__imputer__missing_values': nan, 'preprocess__continuous__imputer__strategy': 'mean', 'preprocess__continuous__imputer__verbose': 0, 'preprocess__categorical__memory': None, 'preprocess__categorical__steps': [('imputer', SimpleImputer(strategy='most_frequent')), ('codification', OneHotEncoder())], 'preprocess__categorical__verbose': False, 'preprocess__categorical__imputer': SimpleImputer(strategy='most_frequent'), 'preprocess__categorical__codification': OneHotEncoder(), 'preprocess__categorical__imputer__add_indicator': False, 'preprocess__categorical__imputer__copy': True, 'preprocess__categorical__imputer__fill_value': None, 'preprocess__categorical__imputer__missing_values': nan, 'preprocess__categorical__imputer__strategy': 'most_frequent', 'preprocess__categorical__imputer__verbose': 0, 'preprocess__categorical__codification__categories': 'auto', 'preprocess__categorical__codification__drop': None, 'preprocess__categorical__codification__dtype': <class 'numpy.float64'>, 'preprocess__categorical__codification__handle_unknown': 'error', 'preprocess__categorical__codification__sparse': True, 'feature_selection__k': 2, 'feature_selection__score_func': <function f_classif at 0x29626b160>, 'classifier__algorithm': 'auto', 'classifier__leaf_size': 30, 'classifier__metric': 'minkowski', 'classifier__metric_params': None, 'classifier__n_jobs': None, 'classifier__n_neighbors': 1, 'classifier__p': 2, 'classifier__weights': 'uniform'}\n"
     ]
    },
    {
     "data": {
      "text/html": [
       "<style>#sk-ec2c0904-2508-4bbd-b3f2-f7c3862de0c2 {color: black;background-color: white;}#sk-ec2c0904-2508-4bbd-b3f2-f7c3862de0c2 pre{padding: 0;}#sk-ec2c0904-2508-4bbd-b3f2-f7c3862de0c2 div.sk-toggleable {background-color: white;}#sk-ec2c0904-2508-4bbd-b3f2-f7c3862de0c2 label.sk-toggleable__label {cursor: pointer;display: block;width: 100%;margin-bottom: 0;padding: 0.3em;box-sizing: border-box;text-align: center;}#sk-ec2c0904-2508-4bbd-b3f2-f7c3862de0c2 label.sk-toggleable__label-arrow:before {content: \"▸\";float: left;margin-right: 0.25em;color: #696969;}#sk-ec2c0904-2508-4bbd-b3f2-f7c3862de0c2 label.sk-toggleable__label-arrow:hover:before {color: black;}#sk-ec2c0904-2508-4bbd-b3f2-f7c3862de0c2 div.sk-estimator:hover label.sk-toggleable__label-arrow:before {color: black;}#sk-ec2c0904-2508-4bbd-b3f2-f7c3862de0c2 div.sk-toggleable__content {max-height: 0;max-width: 0;overflow: hidden;text-align: left;background-color: #f0f8ff;}#sk-ec2c0904-2508-4bbd-b3f2-f7c3862de0c2 div.sk-toggleable__content pre {margin: 0.2em;color: black;border-radius: 0.25em;background-color: #f0f8ff;}#sk-ec2c0904-2508-4bbd-b3f2-f7c3862de0c2 input.sk-toggleable__control:checked~div.sk-toggleable__content {max-height: 200px;max-width: 100%;overflow: auto;}#sk-ec2c0904-2508-4bbd-b3f2-f7c3862de0c2 input.sk-toggleable__control:checked~label.sk-toggleable__label-arrow:before {content: \"▾\";}#sk-ec2c0904-2508-4bbd-b3f2-f7c3862de0c2 div.sk-estimator input.sk-toggleable__control:checked~label.sk-toggleable__label {background-color: #d4ebff;}#sk-ec2c0904-2508-4bbd-b3f2-f7c3862de0c2 div.sk-label input.sk-toggleable__control:checked~label.sk-toggleable__label {background-color: #d4ebff;}#sk-ec2c0904-2508-4bbd-b3f2-f7c3862de0c2 input.sk-hidden--visually {border: 0;clip: rect(1px 1px 1px 1px);clip: rect(1px, 1px, 1px, 1px);height: 1px;margin: -1px;overflow: hidden;padding: 0;position: absolute;width: 1px;}#sk-ec2c0904-2508-4bbd-b3f2-f7c3862de0c2 div.sk-estimator {font-family: monospace;background-color: #f0f8ff;border: 1px dotted black;border-radius: 0.25em;box-sizing: border-box;margin-bottom: 0.5em;}#sk-ec2c0904-2508-4bbd-b3f2-f7c3862de0c2 div.sk-estimator:hover {background-color: #d4ebff;}#sk-ec2c0904-2508-4bbd-b3f2-f7c3862de0c2 div.sk-parallel-item::after {content: \"\";width: 100%;border-bottom: 1px solid gray;flex-grow: 1;}#sk-ec2c0904-2508-4bbd-b3f2-f7c3862de0c2 div.sk-label:hover label.sk-toggleable__label {background-color: #d4ebff;}#sk-ec2c0904-2508-4bbd-b3f2-f7c3862de0c2 div.sk-serial::before {content: \"\";position: absolute;border-left: 1px solid gray;box-sizing: border-box;top: 2em;bottom: 0;left: 50%;}#sk-ec2c0904-2508-4bbd-b3f2-f7c3862de0c2 div.sk-serial {display: flex;flex-direction: column;align-items: center;background-color: white;padding-right: 0.2em;padding-left: 0.2em;}#sk-ec2c0904-2508-4bbd-b3f2-f7c3862de0c2 div.sk-item {z-index: 1;}#sk-ec2c0904-2508-4bbd-b3f2-f7c3862de0c2 div.sk-parallel {display: flex;align-items: stretch;justify-content: center;background-color: white;}#sk-ec2c0904-2508-4bbd-b3f2-f7c3862de0c2 div.sk-parallel::before {content: \"\";position: absolute;border-left: 1px solid gray;box-sizing: border-box;top: 2em;bottom: 0;left: 50%;}#sk-ec2c0904-2508-4bbd-b3f2-f7c3862de0c2 div.sk-parallel-item {display: flex;flex-direction: column;position: relative;background-color: white;}#sk-ec2c0904-2508-4bbd-b3f2-f7c3862de0c2 div.sk-parallel-item:first-child::after {align-self: flex-end;width: 50%;}#sk-ec2c0904-2508-4bbd-b3f2-f7c3862de0c2 div.sk-parallel-item:last-child::after {align-self: flex-start;width: 50%;}#sk-ec2c0904-2508-4bbd-b3f2-f7c3862de0c2 div.sk-parallel-item:only-child::after {width: 0;}#sk-ec2c0904-2508-4bbd-b3f2-f7c3862de0c2 div.sk-dashed-wrapped {border: 1px dashed gray;margin: 0 0.4em 0.5em 0.4em;box-sizing: border-box;padding-bottom: 0.4em;background-color: white;position: relative;}#sk-ec2c0904-2508-4bbd-b3f2-f7c3862de0c2 div.sk-label label {font-family: monospace;font-weight: bold;background-color: white;display: inline-block;line-height: 1.2em;}#sk-ec2c0904-2508-4bbd-b3f2-f7c3862de0c2 div.sk-label-container {position: relative;z-index: 2;text-align: center;}#sk-ec2c0904-2508-4bbd-b3f2-f7c3862de0c2 div.sk-container {/* jupyter's `normalize.less` sets `[hidden] { display: none; }` but bootstrap.min.css set `[hidden] { display: none !important; }` so we also need the `!important` here to be able to override the default hidden behavior on the sphinx rendered scikit-learn.org. See: https://github.com/scikit-learn/scikit-learn/issues/21755 */display: inline-block !important;position: relative;}#sk-ec2c0904-2508-4bbd-b3f2-f7c3862de0c2 div.sk-text-repr-fallback {display: none;}</style><div id=\"sk-ec2c0904-2508-4bbd-b3f2-f7c3862de0c2\" class=\"sk-top-container\"><div class=\"sk-text-repr-fallback\"><pre>Pipeline(steps=[(&#x27;preprocess&#x27;,\n",
       "                 ColumnTransformer(transformers=[(&#x27;continuous&#x27;,\n",
       "                                                  Pipeline(steps=[(&#x27;scaler&#x27;,\n",
       "                                                                   StandardScaler()),\n",
       "                                                                  (&#x27;imputer&#x27;,\n",
       "                                                                   SimpleImputer())]),\n",
       "                                                  [&#x27;n_medio_productos&#x27;]),\n",
       "                                                 (&#x27;categorical&#x27;,\n",
       "                                                  Pipeline(steps=[(&#x27;imputer&#x27;,\n",
       "                                                                   SimpleImputer(strategy=&#x27;most_frequent&#x27;)),\n",
       "                                                                  (&#x27;codification&#x27;,\n",
       "                                                                   OneHotEncoder())]),\n",
       "                                                  [&#x27;tipo_antiguedad&#x27;])])),\n",
       "                (&#x27;feature_selection&#x27;, SelectKBest()),\n",
       "                (&#x27;classifier&#x27;, LogisticRegression(random_state=42))])</pre><b>Please rerun this cell to show the HTML repr or trust the notebook.</b></div><div class=\"sk-container\" hidden><div class=\"sk-item sk-dashed-wrapped\"><div class=\"sk-label-container\"><div class=\"sk-label sk-toggleable\"><input class=\"sk-toggleable__control sk-hidden--visually\" id=\"d8a2d9d4-6047-499c-a1a8-d845eff06c7a\" type=\"checkbox\" ><label for=\"d8a2d9d4-6047-499c-a1a8-d845eff06c7a\" class=\"sk-toggleable__label sk-toggleable__label-arrow\">Pipeline</label><div class=\"sk-toggleable__content\"><pre>Pipeline(steps=[(&#x27;preprocess&#x27;,\n",
       "                 ColumnTransformer(transformers=[(&#x27;continuous&#x27;,\n",
       "                                                  Pipeline(steps=[(&#x27;scaler&#x27;,\n",
       "                                                                   StandardScaler()),\n",
       "                                                                  (&#x27;imputer&#x27;,\n",
       "                                                                   SimpleImputer())]),\n",
       "                                                  [&#x27;n_medio_productos&#x27;]),\n",
       "                                                 (&#x27;categorical&#x27;,\n",
       "                                                  Pipeline(steps=[(&#x27;imputer&#x27;,\n",
       "                                                                   SimpleImputer(strategy=&#x27;most_frequent&#x27;)),\n",
       "                                                                  (&#x27;codification&#x27;,\n",
       "                                                                   OneHotEncoder())]),\n",
       "                                                  [&#x27;tipo_antiguedad&#x27;])])),\n",
       "                (&#x27;feature_selection&#x27;, SelectKBest()),\n",
       "                (&#x27;classifier&#x27;, LogisticRegression(random_state=42))])</pre></div></div></div><div class=\"sk-serial\"><div class=\"sk-item sk-dashed-wrapped\"><div class=\"sk-label-container\"><div class=\"sk-label sk-toggleable\"><input class=\"sk-toggleable__control sk-hidden--visually\" id=\"dc2761b9-5867-4883-b863-df963a376065\" type=\"checkbox\" ><label for=\"dc2761b9-5867-4883-b863-df963a376065\" class=\"sk-toggleable__label sk-toggleable__label-arrow\">preprocess: ColumnTransformer</label><div class=\"sk-toggleable__content\"><pre>ColumnTransformer(transformers=[(&#x27;continuous&#x27;,\n",
       "                                 Pipeline(steps=[(&#x27;scaler&#x27;, StandardScaler()),\n",
       "                                                 (&#x27;imputer&#x27;, SimpleImputer())]),\n",
       "                                 [&#x27;n_medio_productos&#x27;]),\n",
       "                                (&#x27;categorical&#x27;,\n",
       "                                 Pipeline(steps=[(&#x27;imputer&#x27;,\n",
       "                                                  SimpleImputer(strategy=&#x27;most_frequent&#x27;)),\n",
       "                                                 (&#x27;codification&#x27;,\n",
       "                                                  OneHotEncoder())]),\n",
       "                                 [&#x27;tipo_antiguedad&#x27;])])</pre></div></div></div><div class=\"sk-parallel\"><div class=\"sk-parallel-item\"><div class=\"sk-item\"><div class=\"sk-label-container\"><div class=\"sk-label sk-toggleable\"><input class=\"sk-toggleable__control sk-hidden--visually\" id=\"b6b4f020-4a61-4693-9cce-1e6ac62b278d\" type=\"checkbox\" ><label for=\"b6b4f020-4a61-4693-9cce-1e6ac62b278d\" class=\"sk-toggleable__label sk-toggleable__label-arrow\">continuous</label><div class=\"sk-toggleable__content\"><pre>[&#x27;n_medio_productos&#x27;]</pre></div></div></div><div class=\"sk-serial\"><div class=\"sk-item\"><div class=\"sk-serial\"><div class=\"sk-item\"><div class=\"sk-estimator sk-toggleable\"><input class=\"sk-toggleable__control sk-hidden--visually\" id=\"67118a0b-ee7b-4b12-81df-fbc5a7956023\" type=\"checkbox\" ><label for=\"67118a0b-ee7b-4b12-81df-fbc5a7956023\" class=\"sk-toggleable__label sk-toggleable__label-arrow\">StandardScaler</label><div class=\"sk-toggleable__content\"><pre>StandardScaler()</pre></div></div></div><div class=\"sk-item\"><div class=\"sk-estimator sk-toggleable\"><input class=\"sk-toggleable__control sk-hidden--visually\" id=\"bc9a0f89-6886-47ff-9f0b-9a84f91ede2b\" type=\"checkbox\" ><label for=\"bc9a0f89-6886-47ff-9f0b-9a84f91ede2b\" class=\"sk-toggleable__label sk-toggleable__label-arrow\">SimpleImputer</label><div class=\"sk-toggleable__content\"><pre>SimpleImputer()</pre></div></div></div></div></div></div></div></div><div class=\"sk-parallel-item\"><div class=\"sk-item\"><div class=\"sk-label-container\"><div class=\"sk-label sk-toggleable\"><input class=\"sk-toggleable__control sk-hidden--visually\" id=\"6ee8b74e-f72a-443f-9ad7-526097d6cf40\" type=\"checkbox\" ><label for=\"6ee8b74e-f72a-443f-9ad7-526097d6cf40\" class=\"sk-toggleable__label sk-toggleable__label-arrow\">categorical</label><div class=\"sk-toggleable__content\"><pre>[&#x27;tipo_antiguedad&#x27;]</pre></div></div></div><div class=\"sk-serial\"><div class=\"sk-item\"><div class=\"sk-serial\"><div class=\"sk-item\"><div class=\"sk-estimator sk-toggleable\"><input class=\"sk-toggleable__control sk-hidden--visually\" id=\"07feff02-d838-4ac0-823e-3c3af0121f2b\" type=\"checkbox\" ><label for=\"07feff02-d838-4ac0-823e-3c3af0121f2b\" class=\"sk-toggleable__label sk-toggleable__label-arrow\">SimpleImputer</label><div class=\"sk-toggleable__content\"><pre>SimpleImputer(strategy=&#x27;most_frequent&#x27;)</pre></div></div></div><div class=\"sk-item\"><div class=\"sk-estimator sk-toggleable\"><input class=\"sk-toggleable__control sk-hidden--visually\" id=\"48e656fa-db54-4f8d-93d0-9d79cec5da1b\" type=\"checkbox\" ><label for=\"48e656fa-db54-4f8d-93d0-9d79cec5da1b\" class=\"sk-toggleable__label sk-toggleable__label-arrow\">OneHotEncoder</label><div class=\"sk-toggleable__content\"><pre>OneHotEncoder()</pre></div></div></div></div></div></div></div></div></div></div><div class=\"sk-item\"><div class=\"sk-estimator sk-toggleable\"><input class=\"sk-toggleable__control sk-hidden--visually\" id=\"6dac822e-4163-43f2-aeae-b4b8256a25e1\" type=\"checkbox\" ><label for=\"6dac822e-4163-43f2-aeae-b4b8256a25e1\" class=\"sk-toggleable__label sk-toggleable__label-arrow\">SelectKBest</label><div class=\"sk-toggleable__content\"><pre>SelectKBest()</pre></div></div></div><div class=\"sk-item\"><div class=\"sk-estimator sk-toggleable\"><input class=\"sk-toggleable__control sk-hidden--visually\" id=\"1f9eb53e-8a21-465b-b89a-50a67ede856e\" type=\"checkbox\" ><label for=\"1f9eb53e-8a21-465b-b89a-50a67ede856e\" class=\"sk-toggleable__label sk-toggleable__label-arrow\">LogisticRegression</label><div class=\"sk-toggleable__content\"><pre>LogisticRegression(random_state=42)</pre></div></div></div></div></div></div></div>"
      ],
      "text/plain": [
       "Pipeline(steps=[('preprocess',\n",
       "                 ColumnTransformer(transformers=[('continuous',\n",
       "                                                  Pipeline(steps=[('scaler',\n",
       "                                                                   StandardScaler()),\n",
       "                                                                  ('imputer',\n",
       "                                                                   SimpleImputer())]),\n",
       "                                                  ['n_medio_productos']),\n",
       "                                                 ('categorical',\n",
       "                                                  Pipeline(steps=[('imputer',\n",
       "                                                                   SimpleImputer(strategy='most_frequent')),\n",
       "                                                                  ('codification',\n",
       "                                                                   OneHotEncoder())]),\n",
       "                                                  ['tipo_antiguedad'])])),\n",
       "                ('feature_selection', SelectKBest()),\n",
       "                ('classifier', LogisticRegression(random_state=42))])"
      ]
     },
     "execution_count": 10,
     "metadata": {},
     "output_type": "execute_result"
    }
   ],
   "source": [
    "set_config(display=\"diagram\")\n",
    "\n",
    "continuous_pipeline = Pipeline([\n",
    "    ('scaler', StandardScaler()),\n",
    "    ('imputer', SimpleImputer(strategy='mean')),\n",
    "])\n",
    "\n",
    "categorical_pipeline = Pipeline([\n",
    "    ('imputer', SimpleImputer(strategy='most_frequent')),\n",
    "    ('codification', OneHotEncoder())\n",
    "])\n",
    "\n",
    "preprocessing_pipeline = ColumnTransformer([\n",
    "        ('continuous', continuous_pipeline, ['n_medio_productos']),\n",
    "        ('categorical', categorical_pipeline, ['tipo_antiguedad'])\n",
    "    ],\n",
    "    remainder = 'drop' \n",
    ")\n",
    "\n",
    "pipeline = Pipeline([\n",
    "    ('preprocess', preprocessing_pipeline),\n",
    "    ('feature_selection', SelectKBest(score_func=f_classif)),\n",
    "    ('classifier', LogisticRegression(random_state=42))])\n",
    "\n",
    "my_param_grid = [\n",
    "    {\n",
    "     'feature_selection__k': [1,2],\n",
    "     'classifier': [KNeighborsClassifier()],\n",
    "     'classifier__n_neighbors': [1, 3, 5],\n",
    "    },\n",
    "    {\n",
    "     'feature_selection__k': [1,2],\n",
    "     'classifier': [LogisticRegression(random_state=42)],\n",
    "     'classifier__C': [0.01, 0.1, 1.0, 10.0, 100.0]\n",
    "    }\n",
    "]\n",
    "\n",
    "cv = GridSearchCV(pipeline, \n",
    "                  param_grid = my_param_grid,\n",
    "                  scoring = 'accuracy', refit = True,\n",
    "                  cv = 3,\n",
    "                 return_train_score=True)\n",
    "\n",
    "cv.fit(X_train,y_train)\n",
    "\n",
    "cv_results = pd.DataFrame(cv.cv_results_)\n",
    "display(cv_results[\n",
    "        ['param_feature_selection__k','param_classifier','param_classifier__n_neighbors', \n",
    "         'param_classifier__C', 'mean_train_score', 'mean_test_score', \n",
    "         'rank_test_score']].sort_values(by=\"rank_test_score\").head(3))\n",
    "print(cv.best_estimator_.get_params())\n",
    "\n",
    "\n",
    "# WATCH OUT!\n",
    "with open(os.path.join('pkl','round_categorical','pipeline.pkl'),'wb') as f:\n",
    "    pickle.dump(cv.best_estimator_,f)\n",
    "\n",
    "pipeline"
   ]
  },
  {
   "cell_type": "markdown",
   "id": "57ab6e58-6161-430d-980f-b67aa2083161",
   "metadata": {},
   "source": [
    "### TEST"
   ]
  },
  {
   "cell_type": "code",
   "execution_count": 11,
   "id": "cab1dec7-72fd-43fd-bbff-8895cf09c659",
   "metadata": {},
   "outputs": [
    {
     "name": "stdout",
     "output_type": "stream",
     "text": [
      "Accuracy in test:  0.7\n"
     ]
    }
   ],
   "source": [
    "from sklearn.metrics import accuracy_score\n",
    "\n",
    "with open(os.path.join('pkl','round_categorical','pipeline.pkl'), 'rb') as f:\n",
    "    pipe = pickle.load(f)\n",
    "\n",
    "print(\"Accuracy in test: \", accuracy_score(y_test, pipe.predict(X_test)))"
   ]
  },
  {
   "cell_type": "markdown",
   "id": "20fa3277-48dc-4d05-b961-a478f074c977",
   "metadata": {},
   "source": [
    "## Great! But... what about feature importance?\n",
    "- Considerar que la importancia de variables se refiere a lo que entra justo antes del classificador. ¿Cómo sé qué variables son? ¿y además si han pasado por one-hot-encoder...?"
   ]
  },
  {
   "cell_type": "code",
   "execution_count": null,
   "id": "af75921b-1874-4cc3-8919-93e9a112d6f2",
   "metadata": {},
   "outputs": [],
   "source": [
    "from sklearn import set_config\n",
    "\n",
    "set_config(display=\"diagram\")\n",
    "pipe"
   ]
  },
  {
   "cell_type": "markdown",
   "id": "bc9ad242-ea3b-4500-80ed-68ab875f5f0e",
   "metadata": {},
   "source": [
    "### ¿Cuantás y qué variables tengo exactamente antes One Hot Encoder? Espeleología de Pipeliness\n",
    "* `named_steps`\n",
    "* `transformers_`\n",
    "* ¡OJO! `feature_names_in_` solo definido si input names son strings (¡pero simple imputer no me mantiene el nombre de las columnas!)\n",
    "* ¡OJO! por defecto `SimpleImputer` me está devolviendo un array"
   ]
  },
  {
   "cell_type": "code",
   "execution_count": 15,
   "id": "296d6903-6dfc-4a24-9168-db5ab5e8440b",
   "metadata": {},
   "outputs": [
    {
     "data": {
      "text/plain": [
       "{'preprocess': ColumnTransformer(transformers=[('continuous',\n",
       "                                  Pipeline(steps=[('scaler', StandardScaler()),\n",
       "                                                  ('imputer', SimpleImputer())]),\n",
       "                                  ['n_medio_productos']),\n",
       "                                 ('categorical',\n",
       "                                  Pipeline(steps=[('imputer',\n",
       "                                                   SimpleImputer(strategy='most_frequent')),\n",
       "                                                  ('codification',\n",
       "                                                   OneHotEncoder())]),\n",
       "                                  ['tipo_antiguedad'])]),\n",
       " 'feature_selection': SelectKBest(k=2),\n",
       " 'classifier': KNeighborsClassifier(n_neighbors=1)}"
      ]
     },
     "metadata": {},
     "output_type": "display_data"
    }
   ],
   "source": [
    "display(pipe.named_steps)"
   ]
  },
  {
   "cell_type": "code",
   "execution_count": 16,
   "id": "da28c608-0a8c-4d6d-9f53-b84a27a021e6",
   "metadata": {},
   "outputs": [
    {
     "data": {
      "text/html": [
       "<style>#sk-81a155fd-e74e-43c9-a517-ebead8be3d55 {color: black;background-color: white;}#sk-81a155fd-e74e-43c9-a517-ebead8be3d55 pre{padding: 0;}#sk-81a155fd-e74e-43c9-a517-ebead8be3d55 div.sk-toggleable {background-color: white;}#sk-81a155fd-e74e-43c9-a517-ebead8be3d55 label.sk-toggleable__label {cursor: pointer;display: block;width: 100%;margin-bottom: 0;padding: 0.3em;box-sizing: border-box;text-align: center;}#sk-81a155fd-e74e-43c9-a517-ebead8be3d55 label.sk-toggleable__label-arrow:before {content: \"▸\";float: left;margin-right: 0.25em;color: #696969;}#sk-81a155fd-e74e-43c9-a517-ebead8be3d55 label.sk-toggleable__label-arrow:hover:before {color: black;}#sk-81a155fd-e74e-43c9-a517-ebead8be3d55 div.sk-estimator:hover label.sk-toggleable__label-arrow:before {color: black;}#sk-81a155fd-e74e-43c9-a517-ebead8be3d55 div.sk-toggleable__content {max-height: 0;max-width: 0;overflow: hidden;text-align: left;background-color: #f0f8ff;}#sk-81a155fd-e74e-43c9-a517-ebead8be3d55 div.sk-toggleable__content pre {margin: 0.2em;color: black;border-radius: 0.25em;background-color: #f0f8ff;}#sk-81a155fd-e74e-43c9-a517-ebead8be3d55 input.sk-toggleable__control:checked~div.sk-toggleable__content {max-height: 200px;max-width: 100%;overflow: auto;}#sk-81a155fd-e74e-43c9-a517-ebead8be3d55 input.sk-toggleable__control:checked~label.sk-toggleable__label-arrow:before {content: \"▾\";}#sk-81a155fd-e74e-43c9-a517-ebead8be3d55 div.sk-estimator input.sk-toggleable__control:checked~label.sk-toggleable__label {background-color: #d4ebff;}#sk-81a155fd-e74e-43c9-a517-ebead8be3d55 div.sk-label input.sk-toggleable__control:checked~label.sk-toggleable__label {background-color: #d4ebff;}#sk-81a155fd-e74e-43c9-a517-ebead8be3d55 input.sk-hidden--visually {border: 0;clip: rect(1px 1px 1px 1px);clip: rect(1px, 1px, 1px, 1px);height: 1px;margin: -1px;overflow: hidden;padding: 0;position: absolute;width: 1px;}#sk-81a155fd-e74e-43c9-a517-ebead8be3d55 div.sk-estimator {font-family: monospace;background-color: #f0f8ff;border: 1px dotted black;border-radius: 0.25em;box-sizing: border-box;margin-bottom: 0.5em;}#sk-81a155fd-e74e-43c9-a517-ebead8be3d55 div.sk-estimator:hover {background-color: #d4ebff;}#sk-81a155fd-e74e-43c9-a517-ebead8be3d55 div.sk-parallel-item::after {content: \"\";width: 100%;border-bottom: 1px solid gray;flex-grow: 1;}#sk-81a155fd-e74e-43c9-a517-ebead8be3d55 div.sk-label:hover label.sk-toggleable__label {background-color: #d4ebff;}#sk-81a155fd-e74e-43c9-a517-ebead8be3d55 div.sk-serial::before {content: \"\";position: absolute;border-left: 1px solid gray;box-sizing: border-box;top: 2em;bottom: 0;left: 50%;}#sk-81a155fd-e74e-43c9-a517-ebead8be3d55 div.sk-serial {display: flex;flex-direction: column;align-items: center;background-color: white;padding-right: 0.2em;padding-left: 0.2em;}#sk-81a155fd-e74e-43c9-a517-ebead8be3d55 div.sk-item {z-index: 1;}#sk-81a155fd-e74e-43c9-a517-ebead8be3d55 div.sk-parallel {display: flex;align-items: stretch;justify-content: center;background-color: white;}#sk-81a155fd-e74e-43c9-a517-ebead8be3d55 div.sk-parallel::before {content: \"\";position: absolute;border-left: 1px solid gray;box-sizing: border-box;top: 2em;bottom: 0;left: 50%;}#sk-81a155fd-e74e-43c9-a517-ebead8be3d55 div.sk-parallel-item {display: flex;flex-direction: column;position: relative;background-color: white;}#sk-81a155fd-e74e-43c9-a517-ebead8be3d55 div.sk-parallel-item:first-child::after {align-self: flex-end;width: 50%;}#sk-81a155fd-e74e-43c9-a517-ebead8be3d55 div.sk-parallel-item:last-child::after {align-self: flex-start;width: 50%;}#sk-81a155fd-e74e-43c9-a517-ebead8be3d55 div.sk-parallel-item:only-child::after {width: 0;}#sk-81a155fd-e74e-43c9-a517-ebead8be3d55 div.sk-dashed-wrapped {border: 1px dashed gray;margin: 0 0.4em 0.5em 0.4em;box-sizing: border-box;padding-bottom: 0.4em;background-color: white;position: relative;}#sk-81a155fd-e74e-43c9-a517-ebead8be3d55 div.sk-label label {font-family: monospace;font-weight: bold;background-color: white;display: inline-block;line-height: 1.2em;}#sk-81a155fd-e74e-43c9-a517-ebead8be3d55 div.sk-label-container {position: relative;z-index: 2;text-align: center;}#sk-81a155fd-e74e-43c9-a517-ebead8be3d55 div.sk-container {/* jupyter's `normalize.less` sets `[hidden] { display: none; }` but bootstrap.min.css set `[hidden] { display: none !important; }` so we also need the `!important` here to be able to override the default hidden behavior on the sphinx rendered scikit-learn.org. See: https://github.com/scikit-learn/scikit-learn/issues/21755 */display: inline-block !important;position: relative;}#sk-81a155fd-e74e-43c9-a517-ebead8be3d55 div.sk-text-repr-fallback {display: none;}</style><div id=\"sk-81a155fd-e74e-43c9-a517-ebead8be3d55\" class=\"sk-top-container\"><div class=\"sk-text-repr-fallback\"><pre>ColumnTransformer(transformers=[(&#x27;continuous&#x27;,\n",
       "                                 Pipeline(steps=[(&#x27;scaler&#x27;, StandardScaler()),\n",
       "                                                 (&#x27;imputer&#x27;, SimpleImputer())]),\n",
       "                                 [&#x27;n_medio_productos&#x27;]),\n",
       "                                (&#x27;categorical&#x27;,\n",
       "                                 Pipeline(steps=[(&#x27;imputer&#x27;,\n",
       "                                                  SimpleImputer(strategy=&#x27;most_frequent&#x27;)),\n",
       "                                                 (&#x27;codification&#x27;,\n",
       "                                                  OneHotEncoder())]),\n",
       "                                 [&#x27;tipo_antiguedad&#x27;])])</pre><b>Please rerun this cell to show the HTML repr or trust the notebook.</b></div><div class=\"sk-container\" hidden><div class=\"sk-item sk-dashed-wrapped\"><div class=\"sk-label-container\"><div class=\"sk-label sk-toggleable\"><input class=\"sk-toggleable__control sk-hidden--visually\" id=\"6c068edb-aee5-4d09-81c0-31f234b72fbe\" type=\"checkbox\" ><label for=\"6c068edb-aee5-4d09-81c0-31f234b72fbe\" class=\"sk-toggleable__label sk-toggleable__label-arrow\">ColumnTransformer</label><div class=\"sk-toggleable__content\"><pre>ColumnTransformer(transformers=[(&#x27;continuous&#x27;,\n",
       "                                 Pipeline(steps=[(&#x27;scaler&#x27;, StandardScaler()),\n",
       "                                                 (&#x27;imputer&#x27;, SimpleImputer())]),\n",
       "                                 [&#x27;n_medio_productos&#x27;]),\n",
       "                                (&#x27;categorical&#x27;,\n",
       "                                 Pipeline(steps=[(&#x27;imputer&#x27;,\n",
       "                                                  SimpleImputer(strategy=&#x27;most_frequent&#x27;)),\n",
       "                                                 (&#x27;codification&#x27;,\n",
       "                                                  OneHotEncoder())]),\n",
       "                                 [&#x27;tipo_antiguedad&#x27;])])</pre></div></div></div><div class=\"sk-parallel\"><div class=\"sk-parallel-item\"><div class=\"sk-item\"><div class=\"sk-label-container\"><div class=\"sk-label sk-toggleable\"><input class=\"sk-toggleable__control sk-hidden--visually\" id=\"900b8ae3-82de-40b3-be3a-c1f0988fa418\" type=\"checkbox\" ><label for=\"900b8ae3-82de-40b3-be3a-c1f0988fa418\" class=\"sk-toggleable__label sk-toggleable__label-arrow\">continuous</label><div class=\"sk-toggleable__content\"><pre>[&#x27;n_medio_productos&#x27;]</pre></div></div></div><div class=\"sk-serial\"><div class=\"sk-item\"><div class=\"sk-serial\"><div class=\"sk-item\"><div class=\"sk-estimator sk-toggleable\"><input class=\"sk-toggleable__control sk-hidden--visually\" id=\"f1d99957-8964-4f2c-9c9c-fecf7ff9c21d\" type=\"checkbox\" ><label for=\"f1d99957-8964-4f2c-9c9c-fecf7ff9c21d\" class=\"sk-toggleable__label sk-toggleable__label-arrow\">StandardScaler</label><div class=\"sk-toggleable__content\"><pre>StandardScaler()</pre></div></div></div><div class=\"sk-item\"><div class=\"sk-estimator sk-toggleable\"><input class=\"sk-toggleable__control sk-hidden--visually\" id=\"b34542f2-71a6-4f47-8002-36f5db193bdf\" type=\"checkbox\" ><label for=\"b34542f2-71a6-4f47-8002-36f5db193bdf\" class=\"sk-toggleable__label sk-toggleable__label-arrow\">SimpleImputer</label><div class=\"sk-toggleable__content\"><pre>SimpleImputer()</pre></div></div></div></div></div></div></div></div><div class=\"sk-parallel-item\"><div class=\"sk-item\"><div class=\"sk-label-container\"><div class=\"sk-label sk-toggleable\"><input class=\"sk-toggleable__control sk-hidden--visually\" id=\"53769b5d-e77b-4264-820e-137fca88c8e4\" type=\"checkbox\" ><label for=\"53769b5d-e77b-4264-820e-137fca88c8e4\" class=\"sk-toggleable__label sk-toggleable__label-arrow\">categorical</label><div class=\"sk-toggleable__content\"><pre>[&#x27;tipo_antiguedad&#x27;]</pre></div></div></div><div class=\"sk-serial\"><div class=\"sk-item\"><div class=\"sk-serial\"><div class=\"sk-item\"><div class=\"sk-estimator sk-toggleable\"><input class=\"sk-toggleable__control sk-hidden--visually\" id=\"e00ec2c6-52ea-430c-877d-ffe3ad81e85c\" type=\"checkbox\" ><label for=\"e00ec2c6-52ea-430c-877d-ffe3ad81e85c\" class=\"sk-toggleable__label sk-toggleable__label-arrow\">SimpleImputer</label><div class=\"sk-toggleable__content\"><pre>SimpleImputer(strategy=&#x27;most_frequent&#x27;)</pre></div></div></div><div class=\"sk-item\"><div class=\"sk-estimator sk-toggleable\"><input class=\"sk-toggleable__control sk-hidden--visually\" id=\"0a58ec6b-ca2d-493e-8ada-57d4294b60d4\" type=\"checkbox\" ><label for=\"0a58ec6b-ca2d-493e-8ada-57d4294b60d4\" class=\"sk-toggleable__label sk-toggleable__label-arrow\">OneHotEncoder</label><div class=\"sk-toggleable__content\"><pre>OneHotEncoder()</pre></div></div></div></div></div></div></div></div></div></div></div></div>"
      ],
      "text/plain": [
       "ColumnTransformer(transformers=[('continuous',\n",
       "                                 Pipeline(steps=[('scaler', StandardScaler()),\n",
       "                                                 ('imputer', SimpleImputer())]),\n",
       "                                 ['n_medio_productos']),\n",
       "                                ('categorical',\n",
       "                                 Pipeline(steps=[('imputer',\n",
       "                                                  SimpleImputer(strategy='most_frequent')),\n",
       "                                                 ('codification',\n",
       "                                                  OneHotEncoder())]),\n",
       "                                 ['tipo_antiguedad'])])"
      ]
     },
     "metadata": {},
     "output_type": "display_data"
    }
   ],
   "source": [
    "display(pipe.named_steps['preprocess'])"
   ]
  },
  {
   "cell_type": "code",
   "execution_count": 21,
   "id": "f741b34b-0bfc-4f73-96eb-7a0c1c49591c",
   "metadata": {},
   "outputs": [
    {
     "data": {
      "text/plain": [
       "{'continuous': Pipeline(steps=[('scaler', StandardScaler()), ('imputer', SimpleImputer())]),\n",
       " 'categorical': Pipeline(steps=[('imputer', SimpleImputer(strategy='most_frequent')),\n",
       "                 ('codification', OneHotEncoder())])}"
      ]
     },
     "metadata": {},
     "output_type": "display_data"
    }
   ],
   "source": [
    "display(pipe.named_steps['preprocess'].named_transformers_)"
   ]
  },
  {
   "cell_type": "code",
   "execution_count": 19,
   "id": "730721b4-21f3-496e-8785-3a65858eeaae",
   "metadata": {},
   "outputs": [
    {
     "data": {
      "text/html": [
       "<style>#sk-465542a5-c019-41ec-ba88-d3b186d9ccf4 {color: black;background-color: white;}#sk-465542a5-c019-41ec-ba88-d3b186d9ccf4 pre{padding: 0;}#sk-465542a5-c019-41ec-ba88-d3b186d9ccf4 div.sk-toggleable {background-color: white;}#sk-465542a5-c019-41ec-ba88-d3b186d9ccf4 label.sk-toggleable__label {cursor: pointer;display: block;width: 100%;margin-bottom: 0;padding: 0.3em;box-sizing: border-box;text-align: center;}#sk-465542a5-c019-41ec-ba88-d3b186d9ccf4 label.sk-toggleable__label-arrow:before {content: \"▸\";float: left;margin-right: 0.25em;color: #696969;}#sk-465542a5-c019-41ec-ba88-d3b186d9ccf4 label.sk-toggleable__label-arrow:hover:before {color: black;}#sk-465542a5-c019-41ec-ba88-d3b186d9ccf4 div.sk-estimator:hover label.sk-toggleable__label-arrow:before {color: black;}#sk-465542a5-c019-41ec-ba88-d3b186d9ccf4 div.sk-toggleable__content {max-height: 0;max-width: 0;overflow: hidden;text-align: left;background-color: #f0f8ff;}#sk-465542a5-c019-41ec-ba88-d3b186d9ccf4 div.sk-toggleable__content pre {margin: 0.2em;color: black;border-radius: 0.25em;background-color: #f0f8ff;}#sk-465542a5-c019-41ec-ba88-d3b186d9ccf4 input.sk-toggleable__control:checked~div.sk-toggleable__content {max-height: 200px;max-width: 100%;overflow: auto;}#sk-465542a5-c019-41ec-ba88-d3b186d9ccf4 input.sk-toggleable__control:checked~label.sk-toggleable__label-arrow:before {content: \"▾\";}#sk-465542a5-c019-41ec-ba88-d3b186d9ccf4 div.sk-estimator input.sk-toggleable__control:checked~label.sk-toggleable__label {background-color: #d4ebff;}#sk-465542a5-c019-41ec-ba88-d3b186d9ccf4 div.sk-label input.sk-toggleable__control:checked~label.sk-toggleable__label {background-color: #d4ebff;}#sk-465542a5-c019-41ec-ba88-d3b186d9ccf4 input.sk-hidden--visually {border: 0;clip: rect(1px 1px 1px 1px);clip: rect(1px, 1px, 1px, 1px);height: 1px;margin: -1px;overflow: hidden;padding: 0;position: absolute;width: 1px;}#sk-465542a5-c019-41ec-ba88-d3b186d9ccf4 div.sk-estimator {font-family: monospace;background-color: #f0f8ff;border: 1px dotted black;border-radius: 0.25em;box-sizing: border-box;margin-bottom: 0.5em;}#sk-465542a5-c019-41ec-ba88-d3b186d9ccf4 div.sk-estimator:hover {background-color: #d4ebff;}#sk-465542a5-c019-41ec-ba88-d3b186d9ccf4 div.sk-parallel-item::after {content: \"\";width: 100%;border-bottom: 1px solid gray;flex-grow: 1;}#sk-465542a5-c019-41ec-ba88-d3b186d9ccf4 div.sk-label:hover label.sk-toggleable__label {background-color: #d4ebff;}#sk-465542a5-c019-41ec-ba88-d3b186d9ccf4 div.sk-serial::before {content: \"\";position: absolute;border-left: 1px solid gray;box-sizing: border-box;top: 2em;bottom: 0;left: 50%;}#sk-465542a5-c019-41ec-ba88-d3b186d9ccf4 div.sk-serial {display: flex;flex-direction: column;align-items: center;background-color: white;padding-right: 0.2em;padding-left: 0.2em;}#sk-465542a5-c019-41ec-ba88-d3b186d9ccf4 div.sk-item {z-index: 1;}#sk-465542a5-c019-41ec-ba88-d3b186d9ccf4 div.sk-parallel {display: flex;align-items: stretch;justify-content: center;background-color: white;}#sk-465542a5-c019-41ec-ba88-d3b186d9ccf4 div.sk-parallel::before {content: \"\";position: absolute;border-left: 1px solid gray;box-sizing: border-box;top: 2em;bottom: 0;left: 50%;}#sk-465542a5-c019-41ec-ba88-d3b186d9ccf4 div.sk-parallel-item {display: flex;flex-direction: column;position: relative;background-color: white;}#sk-465542a5-c019-41ec-ba88-d3b186d9ccf4 div.sk-parallel-item:first-child::after {align-self: flex-end;width: 50%;}#sk-465542a5-c019-41ec-ba88-d3b186d9ccf4 div.sk-parallel-item:last-child::after {align-self: flex-start;width: 50%;}#sk-465542a5-c019-41ec-ba88-d3b186d9ccf4 div.sk-parallel-item:only-child::after {width: 0;}#sk-465542a5-c019-41ec-ba88-d3b186d9ccf4 div.sk-dashed-wrapped {border: 1px dashed gray;margin: 0 0.4em 0.5em 0.4em;box-sizing: border-box;padding-bottom: 0.4em;background-color: white;position: relative;}#sk-465542a5-c019-41ec-ba88-d3b186d9ccf4 div.sk-label label {font-family: monospace;font-weight: bold;background-color: white;display: inline-block;line-height: 1.2em;}#sk-465542a5-c019-41ec-ba88-d3b186d9ccf4 div.sk-label-container {position: relative;z-index: 2;text-align: center;}#sk-465542a5-c019-41ec-ba88-d3b186d9ccf4 div.sk-container {/* jupyter's `normalize.less` sets `[hidden] { display: none; }` but bootstrap.min.css set `[hidden] { display: none !important; }` so we also need the `!important` here to be able to override the default hidden behavior on the sphinx rendered scikit-learn.org. See: https://github.com/scikit-learn/scikit-learn/issues/21755 */display: inline-block !important;position: relative;}#sk-465542a5-c019-41ec-ba88-d3b186d9ccf4 div.sk-text-repr-fallback {display: none;}</style><div id=\"sk-465542a5-c019-41ec-ba88-d3b186d9ccf4\" class=\"sk-top-container\"><div class=\"sk-text-repr-fallback\"><pre>Pipeline(steps=[(&#x27;imputer&#x27;, SimpleImputer(strategy=&#x27;most_frequent&#x27;)),\n",
       "                (&#x27;codification&#x27;, OneHotEncoder())])</pre><b>Please rerun this cell to show the HTML repr or trust the notebook.</b></div><div class=\"sk-container\" hidden><div class=\"sk-item sk-dashed-wrapped\"><div class=\"sk-label-container\"><div class=\"sk-label sk-toggleable\"><input class=\"sk-toggleable__control sk-hidden--visually\" id=\"aef6949a-fe63-46d3-8f02-83ea6a296d76\" type=\"checkbox\" ><label for=\"aef6949a-fe63-46d3-8f02-83ea6a296d76\" class=\"sk-toggleable__label sk-toggleable__label-arrow\">Pipeline</label><div class=\"sk-toggleable__content\"><pre>Pipeline(steps=[(&#x27;imputer&#x27;, SimpleImputer(strategy=&#x27;most_frequent&#x27;)),\n",
       "                (&#x27;codification&#x27;, OneHotEncoder())])</pre></div></div></div><div class=\"sk-serial\"><div class=\"sk-item\"><div class=\"sk-estimator sk-toggleable\"><input class=\"sk-toggleable__control sk-hidden--visually\" id=\"227d5b7b-bbcf-4b8c-94a8-4fc9f8c017b0\" type=\"checkbox\" ><label for=\"227d5b7b-bbcf-4b8c-94a8-4fc9f8c017b0\" class=\"sk-toggleable__label sk-toggleable__label-arrow\">SimpleImputer</label><div class=\"sk-toggleable__content\"><pre>SimpleImputer(strategy=&#x27;most_frequent&#x27;)</pre></div></div></div><div class=\"sk-item\"><div class=\"sk-estimator sk-toggleable\"><input class=\"sk-toggleable__control sk-hidden--visually\" id=\"963f66c8-ccff-4246-8044-b1268da2e8ea\" type=\"checkbox\" ><label for=\"963f66c8-ccff-4246-8044-b1268da2e8ea\" class=\"sk-toggleable__label sk-toggleable__label-arrow\">OneHotEncoder</label><div class=\"sk-toggleable__content\"><pre>OneHotEncoder()</pre></div></div></div></div></div></div></div>"
      ],
      "text/plain": [
       "Pipeline(steps=[('imputer', SimpleImputer(strategy='most_frequent')),\n",
       "                ('codification', OneHotEncoder())])"
      ]
     },
     "metadata": {},
     "output_type": "display_data"
    }
   ],
   "source": [
    "display(pipe.named_steps['preprocess'].named_transformers_['categorical'])"
   ]
  },
  {
   "cell_type": "code",
   "execution_count": 22,
   "id": "ff3c9bec-e906-42b4-aff3-88c9d89b1ebc",
   "metadata": {},
   "outputs": [
    {
     "name": "stdout",
     "output_type": "stream",
     "text": [
      "Variables salida one hot encoder:  ['x0_first_year' 'x0_junior' 'x0_master' 'x0_senior']\n"
     ]
    }
   ],
   "source": [
    "print(\"Variables salida one hot encoder: \", pipe.named_steps['preprocess'].named_transformers_['categorical'].named_steps['codification'].get_feature_names_out())"
   ]
  },
  {
   "cell_type": "code",
   "execution_count": 23,
   "id": "f84e41e7-afa0-4b6a-ab91-7d8a504211b3",
   "metadata": {},
   "outputs": [
    {
     "ename": "AttributeError",
     "evalue": "'SimpleImputer' object has no attribute 'get_feature_names_out'",
     "output_type": "error",
     "traceback": [
      "\u001b[0;31m---------------------------------------------------------------------------\u001b[0m",
      "\u001b[0;31mAttributeError\u001b[0m                            Traceback (most recent call last)",
      "Cell \u001b[0;32mIn[23], line 1\u001b[0m\n\u001b[0;32m----> 1\u001b[0m \u001b[38;5;28mprint\u001b[39m(\u001b[38;5;124m\"\u001b[39m\u001b[38;5;124mVariables salida categorical-imputer: \u001b[39m\u001b[38;5;124m\"\u001b[39m, \u001b[43mpipe\u001b[49m\u001b[38;5;241;43m.\u001b[39;49m\u001b[43mnamed_steps\u001b[49m\u001b[43m[\u001b[49m\u001b[38;5;124;43m'\u001b[39;49m\u001b[38;5;124;43mpreprocess\u001b[39;49m\u001b[38;5;124;43m'\u001b[39;49m\u001b[43m]\u001b[49m\u001b[38;5;241;43m.\u001b[39;49m\u001b[43mnamed_transformers_\u001b[49m\u001b[43m[\u001b[49m\u001b[38;5;124;43m'\u001b[39;49m\u001b[38;5;124;43mcategorical\u001b[39;49m\u001b[38;5;124;43m'\u001b[39;49m\u001b[43m]\u001b[49m\u001b[38;5;241;43m.\u001b[39;49m\u001b[43mnamed_steps\u001b[49m\u001b[43m[\u001b[49m\u001b[38;5;124;43m'\u001b[39;49m\u001b[38;5;124;43mimputer\u001b[39;49m\u001b[38;5;124;43m'\u001b[39;49m\u001b[43m]\u001b[49m\u001b[38;5;241;43m.\u001b[39;49m\u001b[43mget_feature_names_out\u001b[49m())\n",
      "\u001b[0;31mAttributeError\u001b[0m: 'SimpleImputer' object has no attribute 'get_feature_names_out'"
     ]
    }
   ],
   "source": [
    "print(\"Variables salida categorical-imputer: \", pipe.named_steps['preprocess'].named_transformers_['categorical'].named_steps['imputer'].get_feature_names_out())"
   ]
  },
  {
   "cell_type": "code",
   "execution_count": null,
   "id": "21771476-bf9d-4bf7-bd07-124521de0343",
   "metadata": {},
   "outputs": [],
   "source": [
    "\n",
    "#print(\"Variables entrada categorical-imputer: \", pipe.named_steps['preprocess'].named_transformers_['categorical'].named_steps['imputer'].feature_names_in_)\n",
    "\n",
    "#print(\"Variables salida categorical-imputer: \", pipe.named_steps['preprocess'].named_transformers_['categorical'].named_steps['imputer'].get_feature_names_out())\n",
    "#print(\"Variables salida one hot encoder: \", pipe.named_steps['preprocess'].named_transformers_['categorical'].named_steps['codification'].feature_names_in_)\n"
   ]
  }
 ],
 "metadata": {
  "kernelspec": {
   "display_name": "kenel_pydata_sklearn_1_0",
   "language": "python",
   "name": "env_pydata_sklearn_1_0"
  },
  "language_info": {
   "codemirror_mode": {
    "name": "ipython",
    "version": 3
   },
   "file_extension": ".py",
   "mimetype": "text/x-python",
   "name": "python",
   "nbconvert_exporter": "python",
   "pygments_lexer": "ipython3",
   "version": "3.9.6"
  }
 },
 "nbformat": 4,
 "nbformat_minor": 5
}
