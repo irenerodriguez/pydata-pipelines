{
 "cells": [
  {
   "cell_type": "code",
   "execution_count": 43,
   "id": "9ab13852-a3c0-44d0-bb03-32aa92287495",
   "metadata": {},
   "outputs": [],
   "source": [
    "import os\n",
    "import pickle\n",
    "import numpy as np\n",
    "import pandas as pd"
   ]
  },
  {
   "cell_type": "code",
   "execution_count": 44,
   "id": "f7ec53e1-7cc3-4ff9-814e-1b957d0b7a1c",
   "metadata": {},
   "outputs": [
    {
     "data": {
      "text/html": [
       "<div>\n",
       "<style scoped>\n",
       "    .dataframe tbody tr th:only-of-type {\n",
       "        vertical-align: middle;\n",
       "    }\n",
       "\n",
       "    .dataframe tbody tr th {\n",
       "        vertical-align: top;\n",
       "    }\n",
       "\n",
       "    .dataframe thead th {\n",
       "        text-align: right;\n",
       "    }\n",
       "</style>\n",
       "<table border=\"1\" class=\"dataframe\">\n",
       "  <thead>\n",
       "    <tr style=\"text-align: right;\">\n",
       "      <th></th>\n",
       "      <th>n_medio_productos</th>\n",
       "      <th>impago</th>\n",
       "      <th>tipo_antiguedad</th>\n",
       "    </tr>\n",
       "  </thead>\n",
       "  <tbody>\n",
       "    <tr>\n",
       "      <th>0</th>\n",
       "      <td>1.20</td>\n",
       "      <td>0</td>\n",
       "      <td>senior</td>\n",
       "    </tr>\n",
       "    <tr>\n",
       "      <th>1</th>\n",
       "      <td>1.40</td>\n",
       "      <td>0</td>\n",
       "      <td>senior</td>\n",
       "    </tr>\n",
       "    <tr>\n",
       "      <th>2</th>\n",
       "      <td>1.55</td>\n",
       "      <td>0</td>\n",
       "      <td>master</td>\n",
       "    </tr>\n",
       "    <tr>\n",
       "      <th>3</th>\n",
       "      <td>1.60</td>\n",
       "      <td>0</td>\n",
       "      <td>master</td>\n",
       "    </tr>\n",
       "    <tr>\n",
       "      <th>4</th>\n",
       "      <td>1.45</td>\n",
       "      <td>0</td>\n",
       "      <td>master</td>\n",
       "    </tr>\n",
       "  </tbody>\n",
       "</table>\n",
       "</div>"
      ],
      "text/plain": [
       "   n_medio_productos  impago tipo_antiguedad\n",
       "0               1.20       0          senior\n",
       "1               1.40       0          senior\n",
       "2               1.55       0          master\n",
       "3               1.60       0          master\n",
       "4               1.45       0          master"
      ]
     },
     "execution_count": 44,
     "metadata": {},
     "output_type": "execute_result"
    }
   ],
   "source": [
    "data = pd.read_csv(\"../data/toy_example.csv\")\n",
    "data.iloc[[10,48,61], 0] = np.nan\n",
    "data.iloc[[22, 34], 1] = np.nan\n",
    "data['tipo_antiguedad'] = pd.cut(data['antiguedad'], bins=[0, 1, 3, 6, 100], include_lowest=True,\n",
    "                                 labels=['first_year', 'junior', 'senior', 'master'])\n",
    "data.drop(columns=['antiguedad'], inplace=True)\n",
    "data.head()"
   ]
  },
  {
   "cell_type": "code",
   "execution_count": 45,
   "id": "e99d3017-21f8-4d19-9af4-a6c5ab6a701a",
   "metadata": {},
   "outputs": [],
   "source": [
    "from sklearn.model_selection import train_test_split\n",
    "\n",
    "X = data.drop(columns='impago').copy()\n",
    "y = data['impago'].copy()\n",
    "\n",
    "# FIX a random_state to make your pipeline reproducible!\n",
    "X_train, X_test, y_train, y_test = train_test_split(X, y, test_size=0.2, random_state=42)"
   ]
  },
  {
   "cell_type": "markdown",
   "id": "b47adda8-f51c-465c-a9e6-47805e1ae85d",
   "metadata": {},
   "source": [
    "## ColumnTransformer"
   ]
  },
  {
   "cell_type": "code",
   "execution_count": 46,
   "id": "c8bc767e-8954-4b92-8ce9-48bef2e4d7c4",
   "metadata": {},
   "outputs": [],
   "source": [
    "from sklearn.compose import ColumnTransformer\n",
    "from sklearn.pipeline import Pipeline\n",
    "from sklearn.impute import SimpleImputer\n",
    "from sklearn.preprocessing import StandardScaler, OneHotEncoder\n",
    "from sklearn.feature_selection import SelectKBest, f_classif \n",
    "from sklearn.linear_model import LogisticRegression\n",
    "from sklearn.neighbors import KNeighborsClassifier\n",
    "from sklearn.model_selection import GridSearchCV"
   ]
  },
  {
   "cell_type": "code",
   "execution_count": 47,
   "id": "cf2aecae-2b92-4dc7-9c45-cfeeac055533",
   "metadata": {},
   "outputs": [
    {
     "data": {
      "text/html": [
       "<div>\n",
       "<style scoped>\n",
       "    .dataframe tbody tr th:only-of-type {\n",
       "        vertical-align: middle;\n",
       "    }\n",
       "\n",
       "    .dataframe tbody tr th {\n",
       "        vertical-align: top;\n",
       "    }\n",
       "\n",
       "    .dataframe thead th {\n",
       "        text-align: right;\n",
       "    }\n",
       "</style>\n",
       "<table border=\"1\" class=\"dataframe\">\n",
       "  <thead>\n",
       "    <tr style=\"text-align: right;\">\n",
       "      <th></th>\n",
       "      <th>param_feature_selection__k</th>\n",
       "      <th>param_classifier</th>\n",
       "      <th>param_classifier__n_neighbors</th>\n",
       "      <th>param_classifier__C</th>\n",
       "      <th>mean_train_score</th>\n",
       "      <th>mean_test_score</th>\n",
       "      <th>rank_test_score</th>\n",
       "    </tr>\n",
       "  </thead>\n",
       "  <tbody>\n",
       "    <tr>\n",
       "      <th>1</th>\n",
       "      <td>2</td>\n",
       "      <td>KNeighborsClassifier(n_neighbors=1)</td>\n",
       "      <td>1</td>\n",
       "      <td>NaN</td>\n",
       "      <td>0.67098</td>\n",
       "      <td>0.670769</td>\n",
       "      <td>1</td>\n",
       "    </tr>\n",
       "    <tr>\n",
       "      <th>3</th>\n",
       "      <td>2</td>\n",
       "      <td>KNeighborsClassifier(n_neighbors=1)</td>\n",
       "      <td>3</td>\n",
       "      <td>NaN</td>\n",
       "      <td>0.67098</td>\n",
       "      <td>0.670769</td>\n",
       "      <td>1</td>\n",
       "    </tr>\n",
       "    <tr>\n",
       "      <th>5</th>\n",
       "      <td>2</td>\n",
       "      <td>KNeighborsClassifier(n_neighbors=1)</td>\n",
       "      <td>5</td>\n",
       "      <td>NaN</td>\n",
       "      <td>0.67098</td>\n",
       "      <td>0.670769</td>\n",
       "      <td>1</td>\n",
       "    </tr>\n",
       "  </tbody>\n",
       "</table>\n",
       "</div>"
      ],
      "text/plain": [
       "  param_feature_selection__k                     param_classifier  \\\n",
       "1                          2  KNeighborsClassifier(n_neighbors=1)   \n",
       "3                          2  KNeighborsClassifier(n_neighbors=1)   \n",
       "5                          2  KNeighborsClassifier(n_neighbors=1)   \n",
       "\n",
       "  param_classifier__n_neighbors param_classifier__C  mean_train_score  \\\n",
       "1                             1                 NaN           0.67098   \n",
       "3                             3                 NaN           0.67098   \n",
       "5                             5                 NaN           0.67098   \n",
       "\n",
       "   mean_test_score  rank_test_score  \n",
       "1         0.670769                1  \n",
       "3         0.670769                1  \n",
       "5         0.670769                1  "
      ]
     },
     "metadata": {},
     "output_type": "display_data"
    },
    {
     "name": "stdout",
     "output_type": "stream",
     "text": [
      "{'memory': None, 'steps': [('preprocess', ColumnTransformer(transformers=[('continuous',\n",
      "                                 Pipeline(steps=[('scaler', StandardScaler()),\n",
      "                                                 ('imputer', SimpleImputer())]),\n",
      "                                 ['n_medio_productos']),\n",
      "                                ('categorical',\n",
      "                                 Pipeline(steps=[('imputer',\n",
      "                                                  SimpleImputer(strategy='most_frequent')),\n",
      "                                                 ('codification',\n",
      "                                                  OneHotEncoder())]),\n",
      "                                 ['tipo_antiguedad'])])), ('feature_selection', SelectKBest(k=2)), ('classifier', KNeighborsClassifier(n_neighbors=1))], 'verbose': False, 'preprocess': ColumnTransformer(transformers=[('continuous',\n",
      "                                 Pipeline(steps=[('scaler', StandardScaler()),\n",
      "                                                 ('imputer', SimpleImputer())]),\n",
      "                                 ['n_medio_productos']),\n",
      "                                ('categorical',\n",
      "                                 Pipeline(steps=[('imputer',\n",
      "                                                  SimpleImputer(strategy='most_frequent')),\n",
      "                                                 ('codification',\n",
      "                                                  OneHotEncoder())]),\n",
      "                                 ['tipo_antiguedad'])]), 'feature_selection': SelectKBest(k=2), 'classifier': KNeighborsClassifier(n_neighbors=1), 'preprocess__n_jobs': None, 'preprocess__remainder': 'drop', 'preprocess__sparse_threshold': 0.3, 'preprocess__transformer_weights': None, 'preprocess__transformers': [('continuous', Pipeline(steps=[('scaler', StandardScaler()), ('imputer', SimpleImputer())]), ['n_medio_productos']), ('categorical', Pipeline(steps=[('imputer', SimpleImputer(strategy='most_frequent')),\n",
      "                ('codification', OneHotEncoder())]), ['tipo_antiguedad'])], 'preprocess__verbose': False, 'preprocess__verbose_feature_names_out': True, 'preprocess__continuous': Pipeline(steps=[('scaler', StandardScaler()), ('imputer', SimpleImputer())]), 'preprocess__categorical': Pipeline(steps=[('imputer', SimpleImputer(strategy='most_frequent')),\n",
      "                ('codification', OneHotEncoder())]), 'preprocess__continuous__memory': None, 'preprocess__continuous__steps': [('scaler', StandardScaler()), ('imputer', SimpleImputer())], 'preprocess__continuous__verbose': False, 'preprocess__continuous__scaler': StandardScaler(), 'preprocess__continuous__imputer': SimpleImputer(), 'preprocess__continuous__scaler__copy': True, 'preprocess__continuous__scaler__with_mean': True, 'preprocess__continuous__scaler__with_std': True, 'preprocess__continuous__imputer__add_indicator': False, 'preprocess__continuous__imputer__copy': True, 'preprocess__continuous__imputer__fill_value': None, 'preprocess__continuous__imputer__missing_values': nan, 'preprocess__continuous__imputer__strategy': 'mean', 'preprocess__continuous__imputer__verbose': 0, 'preprocess__categorical__memory': None, 'preprocess__categorical__steps': [('imputer', SimpleImputer(strategy='most_frequent')), ('codification', OneHotEncoder())], 'preprocess__categorical__verbose': False, 'preprocess__categorical__imputer': SimpleImputer(strategy='most_frequent'), 'preprocess__categorical__codification': OneHotEncoder(), 'preprocess__categorical__imputer__add_indicator': False, 'preprocess__categorical__imputer__copy': True, 'preprocess__categorical__imputer__fill_value': None, 'preprocess__categorical__imputer__missing_values': nan, 'preprocess__categorical__imputer__strategy': 'most_frequent', 'preprocess__categorical__imputer__verbose': 0, 'preprocess__categorical__codification__categories': 'auto', 'preprocess__categorical__codification__drop': None, 'preprocess__categorical__codification__dtype': <class 'numpy.float64'>, 'preprocess__categorical__codification__handle_unknown': 'error', 'preprocess__categorical__codification__sparse': True, 'feature_selection__k': 2, 'feature_selection__score_func': <function f_classif at 0x28ab2db80>, 'classifier__algorithm': 'auto', 'classifier__leaf_size': 30, 'classifier__metric': 'minkowski', 'classifier__metric_params': None, 'classifier__n_jobs': None, 'classifier__n_neighbors': 1, 'classifier__p': 2, 'classifier__weights': 'uniform'}\n"
     ]
    }
   ],
   "source": [
    "continuous_pipeline = Pipeline([\n",
    "    ('scaler', StandardScaler()),\n",
    "    ('imputer', SimpleImputer(strategy='mean')),\n",
    "])\n",
    "\n",
    "categorical_pipeline = Pipeline([\n",
    "    ('imputer', SimpleImputer(strategy='most_frequent')),\n",
    "    ('codification', OneHotEncoder())\n",
    "])\n",
    "\n",
    "preprocessing_pipeline = ColumnTransformer([\n",
    "        ('continuous', continuous_pipeline, ['n_medio_productos']),\n",
    "        ('categorical', categorical_pipeline, ['tipo_antiguedad'])\n",
    "    ],\n",
    "    remainder = 'drop' \n",
    ")\n",
    "\n",
    "pipeline = Pipeline([\n",
    "    ('preprocess', preprocessing_pipeline),\n",
    "    ('feature_selection', SelectKBest(score_func=f_classif)),\n",
    "    ('classifier', LogisticRegression(random_state=42))])\n",
    "\n",
    "my_param_grid = [\n",
    "    {\n",
    "     'feature_selection__k': [1,2],\n",
    "     'classifier': [KNeighborsClassifier()],\n",
    "     'classifier__n_neighbors': [1, 3, 5],\n",
    "    },\n",
    "    {\n",
    "     'feature_selection__k': [1,2],\n",
    "     'classifier': [LogisticRegression(random_state=42)],\n",
    "     'classifier__C': [0.01, 0.1, 1.0, 10.0, 100.0]\n",
    "    }\n",
    "]\n",
    "\n",
    "cv = GridSearchCV(pipeline, \n",
    "                  param_grid = my_param_grid,\n",
    "                  scoring = 'accuracy', refit = True,\n",
    "                  cv = 3,\n",
    "                 return_train_score=True)\n",
    "\n",
    "cv.fit(X_train,y_train)\n",
    "\n",
    "cv_results = pd.DataFrame(cv.cv_results_)\n",
    "display(cv_results[\n",
    "        ['param_feature_selection__k','param_classifier','param_classifier__n_neighbors', \n",
    "         'param_classifier__C', 'mean_train_score', 'mean_test_score', \n",
    "         'rank_test_score']].sort_values(by=\"rank_test_score\").head(3))\n",
    "print(cv.best_estimator_.get_params())\n",
    "\n",
    "\n",
    "# WATCH OUT!\n",
    "with open(os.path.join('pkl','round_categorical','pipeline.pkl'),'wb') as f:\n",
    "    pickle.dump(cv.best_estimator_,f)"
   ]
  },
  {
   "cell_type": "markdown",
   "id": "57ab6e58-6161-430d-980f-b67aa2083161",
   "metadata": {},
   "source": [
    "### TEST"
   ]
  },
  {
   "cell_type": "code",
   "execution_count": 49,
   "id": "cab1dec7-72fd-43fd-bbff-8895cf09c659",
   "metadata": {},
   "outputs": [
    {
     "name": "stdout",
     "output_type": "stream",
     "text": [
      "Accuracy in test:  0.7\n"
     ]
    }
   ],
   "source": [
    "from sklearn.metrics import accuracy_score\n",
    "\n",
    "with open(os.path.join('pkl','round_categorical','pipeline.pkl'), 'rb') as f:\n",
    "    pipe = pickle.load(f)\n",
    "\n",
    "print(\"Accuracy in test: \", accuracy_score(y_test, pipe.predict(X_test)))"
   ]
  },
  {
   "cell_type": "markdown",
   "id": "20fa3277-48dc-4d05-b961-a478f074c977",
   "metadata": {},
   "source": [
    "## Great! But... what about feature importance?\n",
    "- Considerar que la importancia de variables se refiere a lo que entra justo antes del classificador. ¿Cómo sé qué variables son? ¿y además si han pasado por one-hot-encoder...?"
   ]
  },
  {
   "cell_type": "code",
   "execution_count": 51,
   "id": "af75921b-1874-4cc3-8919-93e9a112d6f2",
   "metadata": {},
   "outputs": [
    {
     "data": {
      "text/html": [
       "<style>#sk-999fcd6b-fe9b-4230-85f5-ab2d13d63d1e {color: black;background-color: white;}#sk-999fcd6b-fe9b-4230-85f5-ab2d13d63d1e pre{padding: 0;}#sk-999fcd6b-fe9b-4230-85f5-ab2d13d63d1e div.sk-toggleable {background-color: white;}#sk-999fcd6b-fe9b-4230-85f5-ab2d13d63d1e label.sk-toggleable__label {cursor: pointer;display: block;width: 100%;margin-bottom: 0;padding: 0.3em;box-sizing: border-box;text-align: center;}#sk-999fcd6b-fe9b-4230-85f5-ab2d13d63d1e label.sk-toggleable__label-arrow:before {content: \"▸\";float: left;margin-right: 0.25em;color: #696969;}#sk-999fcd6b-fe9b-4230-85f5-ab2d13d63d1e label.sk-toggleable__label-arrow:hover:before {color: black;}#sk-999fcd6b-fe9b-4230-85f5-ab2d13d63d1e div.sk-estimator:hover label.sk-toggleable__label-arrow:before {color: black;}#sk-999fcd6b-fe9b-4230-85f5-ab2d13d63d1e div.sk-toggleable__content {max-height: 0;max-width: 0;overflow: hidden;text-align: left;background-color: #f0f8ff;}#sk-999fcd6b-fe9b-4230-85f5-ab2d13d63d1e div.sk-toggleable__content pre {margin: 0.2em;color: black;border-radius: 0.25em;background-color: #f0f8ff;}#sk-999fcd6b-fe9b-4230-85f5-ab2d13d63d1e input.sk-toggleable__control:checked~div.sk-toggleable__content {max-height: 200px;max-width: 100%;overflow: auto;}#sk-999fcd6b-fe9b-4230-85f5-ab2d13d63d1e input.sk-toggleable__control:checked~label.sk-toggleable__label-arrow:before {content: \"▾\";}#sk-999fcd6b-fe9b-4230-85f5-ab2d13d63d1e div.sk-estimator input.sk-toggleable__control:checked~label.sk-toggleable__label {background-color: #d4ebff;}#sk-999fcd6b-fe9b-4230-85f5-ab2d13d63d1e div.sk-label input.sk-toggleable__control:checked~label.sk-toggleable__label {background-color: #d4ebff;}#sk-999fcd6b-fe9b-4230-85f5-ab2d13d63d1e input.sk-hidden--visually {border: 0;clip: rect(1px 1px 1px 1px);clip: rect(1px, 1px, 1px, 1px);height: 1px;margin: -1px;overflow: hidden;padding: 0;position: absolute;width: 1px;}#sk-999fcd6b-fe9b-4230-85f5-ab2d13d63d1e div.sk-estimator {font-family: monospace;background-color: #f0f8ff;border: 1px dotted black;border-radius: 0.25em;box-sizing: border-box;margin-bottom: 0.5em;}#sk-999fcd6b-fe9b-4230-85f5-ab2d13d63d1e div.sk-estimator:hover {background-color: #d4ebff;}#sk-999fcd6b-fe9b-4230-85f5-ab2d13d63d1e div.sk-parallel-item::after {content: \"\";width: 100%;border-bottom: 1px solid gray;flex-grow: 1;}#sk-999fcd6b-fe9b-4230-85f5-ab2d13d63d1e div.sk-label:hover label.sk-toggleable__label {background-color: #d4ebff;}#sk-999fcd6b-fe9b-4230-85f5-ab2d13d63d1e div.sk-serial::before {content: \"\";position: absolute;border-left: 1px solid gray;box-sizing: border-box;top: 2em;bottom: 0;left: 50%;}#sk-999fcd6b-fe9b-4230-85f5-ab2d13d63d1e div.sk-serial {display: flex;flex-direction: column;align-items: center;background-color: white;padding-right: 0.2em;padding-left: 0.2em;}#sk-999fcd6b-fe9b-4230-85f5-ab2d13d63d1e div.sk-item {z-index: 1;}#sk-999fcd6b-fe9b-4230-85f5-ab2d13d63d1e div.sk-parallel {display: flex;align-items: stretch;justify-content: center;background-color: white;}#sk-999fcd6b-fe9b-4230-85f5-ab2d13d63d1e div.sk-parallel::before {content: \"\";position: absolute;border-left: 1px solid gray;box-sizing: border-box;top: 2em;bottom: 0;left: 50%;}#sk-999fcd6b-fe9b-4230-85f5-ab2d13d63d1e div.sk-parallel-item {display: flex;flex-direction: column;position: relative;background-color: white;}#sk-999fcd6b-fe9b-4230-85f5-ab2d13d63d1e div.sk-parallel-item:first-child::after {align-self: flex-end;width: 50%;}#sk-999fcd6b-fe9b-4230-85f5-ab2d13d63d1e div.sk-parallel-item:last-child::after {align-self: flex-start;width: 50%;}#sk-999fcd6b-fe9b-4230-85f5-ab2d13d63d1e div.sk-parallel-item:only-child::after {width: 0;}#sk-999fcd6b-fe9b-4230-85f5-ab2d13d63d1e div.sk-dashed-wrapped {border: 1px dashed gray;margin: 0 0.4em 0.5em 0.4em;box-sizing: border-box;padding-bottom: 0.4em;background-color: white;position: relative;}#sk-999fcd6b-fe9b-4230-85f5-ab2d13d63d1e div.sk-label label {font-family: monospace;font-weight: bold;background-color: white;display: inline-block;line-height: 1.2em;}#sk-999fcd6b-fe9b-4230-85f5-ab2d13d63d1e div.sk-label-container {position: relative;z-index: 2;text-align: center;}#sk-999fcd6b-fe9b-4230-85f5-ab2d13d63d1e div.sk-container {/* jupyter's `normalize.less` sets `[hidden] { display: none; }` but bootstrap.min.css set `[hidden] { display: none !important; }` so we also need the `!important` here to be able to override the default hidden behavior on the sphinx rendered scikit-learn.org. See: https://github.com/scikit-learn/scikit-learn/issues/21755 */display: inline-block !important;position: relative;}#sk-999fcd6b-fe9b-4230-85f5-ab2d13d63d1e div.sk-text-repr-fallback {display: none;}</style><div id=\"sk-999fcd6b-fe9b-4230-85f5-ab2d13d63d1e\" class=\"sk-top-container\"><div class=\"sk-text-repr-fallback\"><pre>Pipeline(steps=[(&#x27;preprocess&#x27;,\n",
       "                 ColumnTransformer(transformers=[(&#x27;continuous&#x27;,\n",
       "                                                  Pipeline(steps=[(&#x27;scaler&#x27;,\n",
       "                                                                   StandardScaler()),\n",
       "                                                                  (&#x27;imputer&#x27;,\n",
       "                                                                   SimpleImputer())]),\n",
       "                                                  [&#x27;n_medio_productos&#x27;]),\n",
       "                                                 (&#x27;categorical&#x27;,\n",
       "                                                  Pipeline(steps=[(&#x27;imputer&#x27;,\n",
       "                                                                   SimpleImputer(strategy=&#x27;most_frequent&#x27;)),\n",
       "                                                                  (&#x27;codification&#x27;,\n",
       "                                                                   OneHotEncoder())]),\n",
       "                                                  [&#x27;tipo_antiguedad&#x27;])])),\n",
       "                (&#x27;feature_selection&#x27;, SelectKBest(k=2)),\n",
       "                (&#x27;classifier&#x27;, KNeighborsClassifier(n_neighbors=1))])</pre><b>Please rerun this cell to show the HTML repr or trust the notebook.</b></div><div class=\"sk-container\" hidden><div class=\"sk-item sk-dashed-wrapped\"><div class=\"sk-label-container\"><div class=\"sk-label sk-toggleable\"><input class=\"sk-toggleable__control sk-hidden--visually\" id=\"2f64eb3d-77d5-4753-b39f-3c5f87a2e90f\" type=\"checkbox\" ><label for=\"2f64eb3d-77d5-4753-b39f-3c5f87a2e90f\" class=\"sk-toggleable__label sk-toggleable__label-arrow\">Pipeline</label><div class=\"sk-toggleable__content\"><pre>Pipeline(steps=[(&#x27;preprocess&#x27;,\n",
       "                 ColumnTransformer(transformers=[(&#x27;continuous&#x27;,\n",
       "                                                  Pipeline(steps=[(&#x27;scaler&#x27;,\n",
       "                                                                   StandardScaler()),\n",
       "                                                                  (&#x27;imputer&#x27;,\n",
       "                                                                   SimpleImputer())]),\n",
       "                                                  [&#x27;n_medio_productos&#x27;]),\n",
       "                                                 (&#x27;categorical&#x27;,\n",
       "                                                  Pipeline(steps=[(&#x27;imputer&#x27;,\n",
       "                                                                   SimpleImputer(strategy=&#x27;most_frequent&#x27;)),\n",
       "                                                                  (&#x27;codification&#x27;,\n",
       "                                                                   OneHotEncoder())]),\n",
       "                                                  [&#x27;tipo_antiguedad&#x27;])])),\n",
       "                (&#x27;feature_selection&#x27;, SelectKBest(k=2)),\n",
       "                (&#x27;classifier&#x27;, KNeighborsClassifier(n_neighbors=1))])</pre></div></div></div><div class=\"sk-serial\"><div class=\"sk-item sk-dashed-wrapped\"><div class=\"sk-label-container\"><div class=\"sk-label sk-toggleable\"><input class=\"sk-toggleable__control sk-hidden--visually\" id=\"cd7ccaff-2251-4fe6-8797-0a870af624fd\" type=\"checkbox\" ><label for=\"cd7ccaff-2251-4fe6-8797-0a870af624fd\" class=\"sk-toggleable__label sk-toggleable__label-arrow\">preprocess: ColumnTransformer</label><div class=\"sk-toggleable__content\"><pre>ColumnTransformer(transformers=[(&#x27;continuous&#x27;,\n",
       "                                 Pipeline(steps=[(&#x27;scaler&#x27;, StandardScaler()),\n",
       "                                                 (&#x27;imputer&#x27;, SimpleImputer())]),\n",
       "                                 [&#x27;n_medio_productos&#x27;]),\n",
       "                                (&#x27;categorical&#x27;,\n",
       "                                 Pipeline(steps=[(&#x27;imputer&#x27;,\n",
       "                                                  SimpleImputer(strategy=&#x27;most_frequent&#x27;)),\n",
       "                                                 (&#x27;codification&#x27;,\n",
       "                                                  OneHotEncoder())]),\n",
       "                                 [&#x27;tipo_antiguedad&#x27;])])</pre></div></div></div><div class=\"sk-parallel\"><div class=\"sk-parallel-item\"><div class=\"sk-item\"><div class=\"sk-label-container\"><div class=\"sk-label sk-toggleable\"><input class=\"sk-toggleable__control sk-hidden--visually\" id=\"f4f46a7a-f226-4cec-8c8f-7355930d7a88\" type=\"checkbox\" ><label for=\"f4f46a7a-f226-4cec-8c8f-7355930d7a88\" class=\"sk-toggleable__label sk-toggleable__label-arrow\">continuous</label><div class=\"sk-toggleable__content\"><pre>[&#x27;n_medio_productos&#x27;]</pre></div></div></div><div class=\"sk-serial\"><div class=\"sk-item\"><div class=\"sk-serial\"><div class=\"sk-item\"><div class=\"sk-estimator sk-toggleable\"><input class=\"sk-toggleable__control sk-hidden--visually\" id=\"61cd2ada-bfe6-4dbb-a3fc-b626a5443293\" type=\"checkbox\" ><label for=\"61cd2ada-bfe6-4dbb-a3fc-b626a5443293\" class=\"sk-toggleable__label sk-toggleable__label-arrow\">StandardScaler</label><div class=\"sk-toggleable__content\"><pre>StandardScaler()</pre></div></div></div><div class=\"sk-item\"><div class=\"sk-estimator sk-toggleable\"><input class=\"sk-toggleable__control sk-hidden--visually\" id=\"ac8ae636-672e-42ec-a1a5-72cc188d55bb\" type=\"checkbox\" ><label for=\"ac8ae636-672e-42ec-a1a5-72cc188d55bb\" class=\"sk-toggleable__label sk-toggleable__label-arrow\">SimpleImputer</label><div class=\"sk-toggleable__content\"><pre>SimpleImputer()</pre></div></div></div></div></div></div></div></div><div class=\"sk-parallel-item\"><div class=\"sk-item\"><div class=\"sk-label-container\"><div class=\"sk-label sk-toggleable\"><input class=\"sk-toggleable__control sk-hidden--visually\" id=\"fa95caa7-65ea-4912-968d-628b82461bd2\" type=\"checkbox\" ><label for=\"fa95caa7-65ea-4912-968d-628b82461bd2\" class=\"sk-toggleable__label sk-toggleable__label-arrow\">categorical</label><div class=\"sk-toggleable__content\"><pre>[&#x27;tipo_antiguedad&#x27;]</pre></div></div></div><div class=\"sk-serial\"><div class=\"sk-item\"><div class=\"sk-serial\"><div class=\"sk-item\"><div class=\"sk-estimator sk-toggleable\"><input class=\"sk-toggleable__control sk-hidden--visually\" id=\"f6e047c1-a015-44e1-b78a-73168160c281\" type=\"checkbox\" ><label for=\"f6e047c1-a015-44e1-b78a-73168160c281\" class=\"sk-toggleable__label sk-toggleable__label-arrow\">SimpleImputer</label><div class=\"sk-toggleable__content\"><pre>SimpleImputer(strategy=&#x27;most_frequent&#x27;)</pre></div></div></div><div class=\"sk-item\"><div class=\"sk-estimator sk-toggleable\"><input class=\"sk-toggleable__control sk-hidden--visually\" id=\"30ffb36c-466f-4176-8d6c-211ee68fa0b6\" type=\"checkbox\" ><label for=\"30ffb36c-466f-4176-8d6c-211ee68fa0b6\" class=\"sk-toggleable__label sk-toggleable__label-arrow\">OneHotEncoder</label><div class=\"sk-toggleable__content\"><pre>OneHotEncoder()</pre></div></div></div></div></div></div></div></div></div></div><div class=\"sk-item\"><div class=\"sk-estimator sk-toggleable\"><input class=\"sk-toggleable__control sk-hidden--visually\" id=\"204f02e4-f1bc-4c2c-a2ad-ea91e1cc2853\" type=\"checkbox\" ><label for=\"204f02e4-f1bc-4c2c-a2ad-ea91e1cc2853\" class=\"sk-toggleable__label sk-toggleable__label-arrow\">SelectKBest</label><div class=\"sk-toggleable__content\"><pre>SelectKBest(k=2)</pre></div></div></div><div class=\"sk-item\"><div class=\"sk-estimator sk-toggleable\"><input class=\"sk-toggleable__control sk-hidden--visually\" id=\"d8b5045c-4168-41ed-b4a9-67451933fc7e\" type=\"checkbox\" ><label for=\"d8b5045c-4168-41ed-b4a9-67451933fc7e\" class=\"sk-toggleable__label sk-toggleable__label-arrow\">KNeighborsClassifier</label><div class=\"sk-toggleable__content\"><pre>KNeighborsClassifier(n_neighbors=1)</pre></div></div></div></div></div></div></div>"
      ],
      "text/plain": [
       "Pipeline(steps=[('preprocess',\n",
       "                 ColumnTransformer(transformers=[('continuous',\n",
       "                                                  Pipeline(steps=[('scaler',\n",
       "                                                                   StandardScaler()),\n",
       "                                                                  ('imputer',\n",
       "                                                                   SimpleImputer())]),\n",
       "                                                  ['n_medio_productos']),\n",
       "                                                 ('categorical',\n",
       "                                                  Pipeline(steps=[('imputer',\n",
       "                                                                   SimpleImputer(strategy='most_frequent')),\n",
       "                                                                  ('codification',\n",
       "                                                                   OneHotEncoder())]),\n",
       "                                                  ['tipo_antiguedad'])])),\n",
       "                ('feature_selection', SelectKBest(k=2)),\n",
       "                ('classifier', KNeighborsClassifier(n_neighbors=1))])"
      ]
     },
     "execution_count": 51,
     "metadata": {},
     "output_type": "execute_result"
    }
   ],
   "source": [
    "from sklearn import set_config\n",
    "\n",
    "set_config(display=\"diagram\")\n",
    "pipe"
   ]
  },
  {
   "cell_type": "markdown",
   "id": "bc9ad242-ea3b-4500-80ed-68ab875f5f0e",
   "metadata": {},
   "source": [
    "### ¿Cuantás y qué variables tengo exactamente antes One Hot Encoder?"
   ]
  },
  {
   "cell_type": "code",
   "execution_count": null,
   "id": "ff3c9bec-e906-42b4-aff3-88c9d89b1ebc",
   "metadata": {},
   "outputs": [],
   "source": []
  },
  {
   "cell_type": "markdown",
   "id": "a80ca833-ff98-4e56-bbd6-1013e6f9b6be",
   "metadata": {},
   "source": [
    "## Great! But... what if I want to use my own encoding algorithm?"
   ]
  },
  {
   "cell_type": "code",
   "execution_count": null,
   "id": "4687e867-1e28-4d58-9283-3a641599e50e",
   "metadata": {},
   "outputs": [],
   "source": []
  }
 ],
 "metadata": {
  "kernelspec": {
   "display_name": "kenel_pydata_sklearn_1_0",
   "language": "python",
   "name": "env_pydata_sklearn_1_0"
  },
  "language_info": {
   "codemirror_mode": {
    "name": "ipython",
    "version": 3
   },
   "file_extension": ".py",
   "mimetype": "text/x-python",
   "name": "python",
   "nbconvert_exporter": "python",
   "pygments_lexer": "ipython3",
   "version": "3.9.6"
  }
 },
 "nbformat": 4,
 "nbformat_minor": 5
}
