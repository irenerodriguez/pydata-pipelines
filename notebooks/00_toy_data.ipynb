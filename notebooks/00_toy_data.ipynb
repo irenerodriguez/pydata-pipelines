{
 "cells": [
  {
   "cell_type": "markdown",
   "id": "daacd75a-ed83-47bc-819b-7e5bb9eee4ce",
   "metadata": {},
   "source": [
    "Para generar datasets sintéticos: https://guoguibing.github.io/librec/datagen.html\n",
    "\n",
    "## DISCLAIMER! Notebooks"
   ]
  },
  {
   "cell_type": "code",
   "execution_count": 1,
   "id": "11fbf497-fa27-49c7-850d-131fce70e564",
   "metadata": {},
   "outputs": [],
   "source": [
    "%load_ext autoreload\n",
    "%autoreload 2"
   ]
  },
  {
   "cell_type": "code",
   "execution_count": 2,
   "id": "3e1eb6fb-93ba-4578-81db-cadc568c988c",
   "metadata": {},
   "outputs": [
    {
     "name": "stderr",
     "output_type": "stream",
     "text": [
      "/var/folders/vj/99bcmf5n4vlfs7qdf72qx4500000gp/T/ipykernel_8883/913326781.py:4: DeprecationWarning: \n",
      "Pyarrow will become a required dependency of pandas in the next major release of pandas (pandas 3.0),\n",
      "(to allow more performant data types, such as the Arrow string type, and better interoperability with other libraries)\n",
      "but was not found to be installed on your system.\n",
      "If this would cause problems for you,\n",
      "please provide us feedback at https://github.com/pandas-dev/pandas/issues/54466\n",
      "        \n",
      "  import pandas as pd\n"
     ]
    }
   ],
   "source": [
    "import os\n",
    "import pickle\n",
    "import numpy as np\n",
    "import pandas as pd\n",
    "import seaborn as sns"
   ]
  },
  {
   "cell_type": "code",
   "execution_count": 3,
   "id": "50fd7212-489b-403f-868e-c18f26e637d7",
   "metadata": {},
   "outputs": [
    {
     "data": {
      "text/html": [
       "<div>\n",
       "<style scoped>\n",
       "    .dataframe tbody tr th:only-of-type {\n",
       "        vertical-align: middle;\n",
       "    }\n",
       "\n",
       "    .dataframe tbody tr th {\n",
       "        vertical-align: top;\n",
       "    }\n",
       "\n",
       "    .dataframe thead th {\n",
       "        text-align: right;\n",
       "    }\n",
       "</style>\n",
       "<table border=\"1\" class=\"dataframe\">\n",
       "  <thead>\n",
       "    <tr style=\"text-align: right;\">\n",
       "      <th></th>\n",
       "      <th>antiguedad</th>\n",
       "      <th>n_medio_productos</th>\n",
       "      <th>impago</th>\n",
       "    </tr>\n",
       "  </thead>\n",
       "  <tbody>\n",
       "    <tr>\n",
       "      <th>0</th>\n",
       "      <td>4.225</td>\n",
       "      <td>1.20</td>\n",
       "      <td>0</td>\n",
       "    </tr>\n",
       "    <tr>\n",
       "      <th>1</th>\n",
       "      <td>5.175</td>\n",
       "      <td>1.40</td>\n",
       "      <td>0</td>\n",
       "    </tr>\n",
       "    <tr>\n",
       "      <th>2</th>\n",
       "      <td>6.325</td>\n",
       "      <td>1.55</td>\n",
       "      <td>0</td>\n",
       "    </tr>\n",
       "    <tr>\n",
       "      <th>3</th>\n",
       "      <td>7.275</td>\n",
       "      <td>1.60</td>\n",
       "      <td>0</td>\n",
       "    </tr>\n",
       "    <tr>\n",
       "      <th>4</th>\n",
       "      <td>8.075</td>\n",
       "      <td>1.45</td>\n",
       "      <td>0</td>\n",
       "    </tr>\n",
       "  </tbody>\n",
       "</table>\n",
       "</div>"
      ],
      "text/plain": [
       "   antiguedad  n_medio_productos  impago\n",
       "0       4.225               1.20       0\n",
       "1       5.175               1.40       0\n",
       "2       6.325               1.55       0\n",
       "3       7.275               1.60       0\n",
       "4       8.075               1.45       0"
      ]
     },
     "execution_count": 3,
     "metadata": {},
     "output_type": "execute_result"
    }
   ],
   "source": [
    "data = pd.read_csv(\"../data/toy_example.csv\")\n",
    "data.iloc[[10,48,61], 0] = np.nan\n",
    "data.iloc[[22, 34], 1] = np.nan\n",
    "data.head()"
   ]
  },
  {
   "cell_type": "code",
   "execution_count": 4,
   "id": "3c3839b4-bf4a-4ca3-948d-533afcaf9746",
   "metadata": {},
   "outputs": [
    {
     "data": {
      "text/html": [
       "<div>\n",
       "<style scoped>\n",
       "    .dataframe tbody tr th:only-of-type {\n",
       "        vertical-align: middle;\n",
       "    }\n",
       "\n",
       "    .dataframe tbody tr th {\n",
       "        vertical-align: top;\n",
       "    }\n",
       "\n",
       "    .dataframe thead th {\n",
       "        text-align: right;\n",
       "    }\n",
       "</style>\n",
       "<table border=\"1\" class=\"dataframe\">\n",
       "  <thead>\n",
       "    <tr style=\"text-align: right;\">\n",
       "      <th></th>\n",
       "      <th>antiguedad</th>\n",
       "      <th>n_medio_productos</th>\n",
       "      <th>impago</th>\n",
       "    </tr>\n",
       "  </thead>\n",
       "  <tbody>\n",
       "    <tr>\n",
       "      <th>count</th>\n",
       "      <td>93.000000</td>\n",
       "      <td>94.000000</td>\n",
       "      <td>96.000000</td>\n",
       "    </tr>\n",
       "    <tr>\n",
       "      <th>mean</th>\n",
       "      <td>4.822312</td>\n",
       "      <td>3.442553</td>\n",
       "      <td>0.416667</td>\n",
       "    </tr>\n",
       "    <tr>\n",
       "      <th>std</th>\n",
       "      <td>2.698202</td>\n",
       "      <td>1.306517</td>\n",
       "      <td>0.495595</td>\n",
       "    </tr>\n",
       "    <tr>\n",
       "      <th>min</th>\n",
       "      <td>0.425000</td>\n",
       "      <td>1.200000</td>\n",
       "      <td>0.000000</td>\n",
       "    </tr>\n",
       "    <tr>\n",
       "      <th>25%</th>\n",
       "      <td>2.375000</td>\n",
       "      <td>2.362500</td>\n",
       "      <td>0.000000</td>\n",
       "    </tr>\n",
       "    <tr>\n",
       "      <th>50%</th>\n",
       "      <td>5.125000</td>\n",
       "      <td>3.350000</td>\n",
       "      <td>0.000000</td>\n",
       "    </tr>\n",
       "    <tr>\n",
       "      <th>75%</th>\n",
       "      <td>7.225000</td>\n",
       "      <td>4.575000</td>\n",
       "      <td>1.000000</td>\n",
       "    </tr>\n",
       "    <tr>\n",
       "      <th>max</th>\n",
       "      <td>9.475000</td>\n",
       "      <td>5.700000</td>\n",
       "      <td>1.000000</td>\n",
       "    </tr>\n",
       "  </tbody>\n",
       "</table>\n",
       "</div>"
      ],
      "text/plain": [
       "       antiguedad  n_medio_productos     impago\n",
       "count   93.000000          94.000000  96.000000\n",
       "mean     4.822312           3.442553   0.416667\n",
       "std      2.698202           1.306517   0.495595\n",
       "min      0.425000           1.200000   0.000000\n",
       "25%      2.375000           2.362500   0.000000\n",
       "50%      5.125000           3.350000   0.000000\n",
       "75%      7.225000           4.575000   1.000000\n",
       "max      9.475000           5.700000   1.000000"
      ]
     },
     "execution_count": 4,
     "metadata": {},
     "output_type": "execute_result"
    }
   ],
   "source": [
    "data.describe()"
   ]
  },
  {
   "cell_type": "code",
   "execution_count": 5,
   "id": "6fdee3a1-f185-4a62-9ed0-b44d0ce5c882",
   "metadata": {},
   "outputs": [
    {
     "data": {
      "text/plain": [
       "<Axes: xlabel='antiguedad', ylabel='n_medio_productos'>"
      ]
     },
     "execution_count": 5,
     "metadata": {},
     "output_type": "execute_result"
    },
    {
     "data": {
      "image/png": "[encoded data removed]",
      "text/plain": [
       "<Figure size 640x480 with 1 Axes>"
      ]
     },
     "metadata": {},
     "output_type": "display_data"
    }
   ],
   "source": [
    "sns.scatterplot(data = data, x='antiguedad', y='n_medio_productos', hue='impago')"
   ]
  },
  {
   "cell_type": "markdown",
   "id": "6eeeb663-3655-44c7-9234-3fb24e293e3c",
   "metadata": {},
   "source": [
    "## 1st Round\n",
    "* **STAKEHOLDER**:\n",
    "    - Necesito clasificar a mis clientes en función a su riesgo de impago en base a su antigüedad como cliente y el número medio de productos al año.\n",
    "* **DATA SCIENTIST**:\n",
    "    - Sure! Voy a usar un vecinos próximos (k-NN) que en sencillito y el problema no parece muy complicado.\n",
    "    - Por supuesto yo sé que en el caso de k-NN tengo que normalizar los datos e imputar missing values. También voy a dividir mis datos en training y test y sé que el cojunto de test no lo puedo utilizar para nada, más que para evaluar el resultado final de mi modelo.\n",
    "    - ¡Manos a la obra!"
   ]
  },
  {
   "cell_type": "code",
   "execution_count": 6,
   "id": "911378d3-4fa8-479b-8bd3-f236232319c9",
   "metadata": {},
   "outputs": [],
   "source": [
    "from sklearn.model_selection import train_test_split\n",
    "\n",
    "X = data.drop(columns='impago').copy()\n",
    "y = data['impago'].copy()\n",
    "\n",
    "# FIX a random_state to make your pipeline reproducible!\n",
    "X_train, X_test, y_train, y_test = train_test_split(X, y, test_size=0.2, random_state=42)"
   ]
  },
  {
   "cell_type": "markdown",
   "id": "d4edc08f-f8d2-4f55-9895-7cbe20aaa245",
   "metadata": {},
   "source": [
    "### TRAIN"
   ]
  },
  {
   "cell_type": "code",
   "execution_count": 7,
   "id": "434a90d0-5d69-4b34-b097-15091d22f94e",
   "metadata": {},
   "outputs": [],
   "source": [
    "## TRAIN\n",
    "\n",
    "from sklearn.preprocessing import StandardScaler\n",
    "from sklearn.neighbors import KNeighborsClassifier\n",
    "\n",
    "\n",
    "ss = StandardScaler(with_mean=True, with_std=True)\n",
    "ss.fit(X_train)\n",
    "\n",
    "X_train_transf = ss.transform(X_train)\n",
    "\n",
    "clf = KNeighborsClassifier(n_neighbors=5)\n",
    "\n",
    "# TODO: uncomment to get the error for the slides\n",
    "#clf.fit(X_train_transf, y_train)"
   ]
  },
  {
   "cell_type": "markdown",
   "id": "84d405ab-c066-48be-9e1c-3ec77104ecf8",
   "metadata": {},
   "source": [
    "- He empezado por el modo en que alguien sabe usar sklearn básico y no se hace los cálculos \"a mano\".\n",
    "- Diagrama en mi cabeza..."
   ]
  },
  {
   "cell_type": "code",
   "execution_count": 8,
   "id": "d1d7e177-90c9-4c79-95c5-e432fcb15c18",
   "metadata": {},
   "outputs": [
    {
     "name": "stdout",
     "output_type": "stream",
     "text": [
      "Accuracy in train:  1.0\n"
     ]
    },
    {
     "data": {
      "image/png": "[encoded data removed]",
      "text/plain": [
       "<Figure size 500x500 with 1 Axes>"
      ]
     },
     "metadata": {},
     "output_type": "display_data"
    }
   ],
   "source": [
    "## TRAIN V2\n",
    "from sklearn.impute import SimpleImputer\n",
    "from plot_decision_boundary import plot_decision_boundary\n",
    "from sklearn.metrics import accuracy_score\n",
    "\n",
    "ss = StandardScaler(with_mean=True, with_std=True)\n",
    "X_train_transform_ss = ss.fit_transform(X_train)\n",
    "\n",
    "si = SimpleImputer(strategy='mean')\n",
    "X_train_transform_ss_si = si.fit_transform(X_train_transform_ss)\n",
    "\n",
    "clf = KNeighborsClassifier(n_neighbors=1)\n",
    "\n",
    "clf.fit(X_train_transform_ss_si, y_train)\n",
    "\n",
    "plot_decision_boundary(clf, X_train_transform_ss_si, y_train)\n",
    "\n",
    "print(\"Accuracy in train: \", accuracy_score(y_train, clf.predict(X_train_transform_ss_si)))\n",
    "\n",
    "\n",
    "# save: DISCLAIMER: model registry\n",
    "with open(os.path.join('pkl','round_1','standard_scaler.pkl'),'wb') as f:\n",
    "    pickle.dump(ss,f)\n",
    "\n",
    "with open(os.path.join('pkl','round_1','simple_imputer.pkl'),'wb') as f:\n",
    "    pickle.dump(si,f)\n",
    "\n",
    "with open(os.path.join('pkl','round_1','knn.pkl'),'wb') as f:\n",
    "    pickle.dump(clf,f)"
   ]
  },
  {
   "cell_type": "markdown",
   "id": "5532efdd-7611-420a-aada-afe96514fdb2",
   "metadata": {},
   "source": [
    "### PREDICT\n",
    "- Drama"
   ]
  },
  {
   "cell_type": "code",
   "execution_count": 9,
   "id": "9697f20e-6214-4c8d-be85-a1ba057e87f3",
   "metadata": {},
   "outputs": [
    {
     "name": "stdout",
     "output_type": "stream",
     "text": [
      "Accuracy in test:  0.6\n"
     ]
    }
   ],
   "source": [
    "# load\n",
    "with open(os.path.join('pkl','round_1','standard_scaler.pkl'), 'rb') as f:\n",
    "    ss = pickle.load(f)\n",
    "\n",
    "with open(os.path.join('pkl','round_1','simple_imputer.pkl'), 'rb') as f:\n",
    "    si = pickle.load(f)\n",
    "\n",
    "\n",
    "with open(os.path.join('pkl','round_1','knn.pkl'), 'rb') as f:\n",
    "    clf = pickle.load(f)\n",
    "\n",
    "X_test_transf_ss = ss.transform(X_test)\n",
    "X_test_transf_ss_si = si.transform(X_test_transf_ss)\n",
    "\n",
    "print(\"Accuracy in test: \", accuracy_score(y_test, clf.predict(X_test_transf_ss_si)))"
   ]
  },
  {
   "cell_type": "markdown",
   "id": "0a06faf1-8dd6-48fe-b3de-a2ec2a692792",
   "metadata": {},
   "source": [
    "# 2nd Round"
   ]
  },
  {
   "cell_type": "markdown",
   "id": "b6350b80-7c56-438a-9b94-5f9bfa471722",
   "metadata": {},
   "source": [
    "### TRAIN"
   ]
  },
  {
   "cell_type": "code",
   "execution_count": 10,
   "id": "656011de-3c0a-4adb-96fd-018b3ac2279b",
   "metadata": {},
   "outputs": [
    {
     "name": "stdout",
     "output_type": "stream",
     "text": [
      "Accuracy in train k=1:  1.0\n",
      "Accuracy in train k=3:  0.75\n"
     ]
    }
   ],
   "source": [
    "ss = StandardScaler(with_mean=True, with_std=True)\n",
    "X_train_transform_ss = ss.fit_transform(X_train)\n",
    "\n",
    "si = SimpleImputer(strategy='mean')\n",
    "X_train_transform_ss_si = si.fit_transform(X_train_transform_ss)\n",
    "\n",
    "clf_1 = KNeighborsClassifier(n_neighbors=1)\n",
    "clf_1.fit(X_train_transform_ss_si, y_train)\n",
    "\n",
    "clf_3 = KNeighborsClassifier(n_neighbors=3)\n",
    "clf_3.fit(X_train_transform_ss_si, y_train)\n",
    "\n",
    "print(\"Accuracy in train k=1: \", accuracy_score(y_train, clf_1.predict(X_train_transform_ss_si)))\n",
    "print(\"Accuracy in train k=3: \", accuracy_score(y_train, clf_3.predict(X_train_transform_ss_si)))\n",
    "\n",
    "\n",
    "# save: DISCLAIMER: model registry\n",
    "with open(os.path.join('pkl','round_2','standard_scaler.pkl'),'wb') as f:\n",
    "    pickle.dump(ss,f)\n",
    "\n",
    "with open(os.path.join('pkl','round_2','simple_imputer.pkl'),'wb') as f:\n",
    "    pickle.dump(si,f)\n",
    "\n",
    "with open(os.path.join('pkl','round_2','knn_1.pkl'),'wb') as f:\n",
    "    pickle.dump(clf_1,f)\n",
    "\n",
    "with open(os.path.join('pkl','round_2','knn_3.pkl'),'wb') as f:\n",
    "    pickle.dump(clf_3,f)"
   ]
  },
  {
   "cell_type": "markdown",
   "id": "42f9fc2d-1d99-4674-a916-48cc5c73a398",
   "metadata": {},
   "source": [
    "### TEST\n",
    "- ¡Me quedo con k=3! **¡¡¡ERROR!! He usado el conjujnto de test para tomar la decisión**"
   ]
  },
  {
   "cell_type": "code",
   "execution_count": 11,
   "id": "dadc73cc-604d-437d-a1b2-4085e81482e4",
   "metadata": {},
   "outputs": [
    {
     "name": "stdout",
     "output_type": "stream",
     "text": [
      "Accuracy in test:  0.6\n",
      "Accuracy in test:  0.7\n"
     ]
    }
   ],
   "source": [
    "with open(os.path.join('pkl','round_2','standard_scaler.pkl'), 'rb') as f:\n",
    "    ss = pickle.load(f)\n",
    "\n",
    "with open(os.path.join('pkl','round_2','simple_imputer.pkl'), 'rb') as f:\n",
    "    si = pickle.load(f)\n",
    "\n",
    "with open(os.path.join('pkl','round_2','knn_1.pkl'), 'rb') as f:\n",
    "    clf_1 = pickle.load(f)\n",
    "\n",
    "with open(os.path.join('pkl','round_2','knn_3.pkl'), 'rb') as f:\n",
    "    clf_3 = pickle.load(f)\n",
    "\n",
    "X_test_transf_ss = ss.transform(X_test)\n",
    "X_test_transf_ss_si = si.transform(X_test_transf_ss)\n",
    "\n",
    "print(\"Accuracy in test: \", accuracy_score(y_test, clf_1.predict(X_test_transf_ss_si)))\n",
    "print(\"Accuracy in test: \", accuracy_score(y_test, clf_3.predict(X_test_transf_ss_si)))"
   ]
  },
  {
   "cell_type": "markdown",
   "id": "5216fddc-cc7e-43e4-b35b-90320c5c2b53",
   "metadata": {},
   "source": [
    "## Round 3\n",
    "- ¡Cierto! Recuerdo que me comentaron el tema este de la validación cruzada...\n",
    "- Puedo decidir el número de vecinos próximos sin hacer cheating y mirar al conjunto de test"
   ]
  },
  {
   "cell_type": "code",
   "execution_count": 12,
   "id": "fb0e6d99-9f58-42c4-938a-cdc0a015c690",
   "metadata": {},
   "outputs": [
    {
     "data": {
      "text/html": [
       "<div>\n",
       "<style scoped>\n",
       "    .dataframe tbody tr th:only-of-type {\n",
       "        vertical-align: middle;\n",
       "    }\n",
       "\n",
       "    .dataframe tbody tr th {\n",
       "        vertical-align: top;\n",
       "    }\n",
       "\n",
       "    .dataframe thead th {\n",
       "        text-align: right;\n",
       "    }\n",
       "</style>\n",
       "<table border=\"1\" class=\"dataframe\">\n",
       "  <thead>\n",
       "    <tr style=\"text-align: right;\">\n",
       "      <th></th>\n",
       "      <th>param_n_neighbors</th>\n",
       "      <th>mean_train_score</th>\n",
       "      <th>mean_test_score</th>\n",
       "      <th>rank_test_score</th>\n",
       "    </tr>\n",
       "  </thead>\n",
       "  <tbody>\n",
       "    <tr>\n",
       "      <th>0</th>\n",
       "      <td>1</td>\n",
       "      <td>1.000000</td>\n",
       "      <td>0.566154</td>\n",
       "      <td>3</td>\n",
       "    </tr>\n",
       "    <tr>\n",
       "      <th>1</th>\n",
       "      <td>3</td>\n",
       "      <td>0.815556</td>\n",
       "      <td>0.631282</td>\n",
       "      <td>2</td>\n",
       "    </tr>\n",
       "    <tr>\n",
       "      <th>2</th>\n",
       "      <td>5</td>\n",
       "      <td>0.775948</td>\n",
       "      <td>0.723077</td>\n",
       "      <td>1</td>\n",
       "    </tr>\n",
       "  </tbody>\n",
       "</table>\n",
       "</div>"
      ],
      "text/plain": [
       "  param_n_neighbors  mean_train_score  mean_test_score  rank_test_score\n",
       "0                 1          1.000000         0.566154                3\n",
       "1                 3          0.815556         0.631282                2\n",
       "2                 5          0.775948         0.723077                1"
      ]
     },
     "metadata": {},
     "output_type": "display_data"
    },
    {
     "name": "stdout",
     "output_type": "stream",
     "text": [
      "{'algorithm': 'auto', 'leaf_size': 30, 'metric': 'minkowski', 'metric_params': None, 'n_jobs': None, 'n_neighbors': 5, 'p': 2, 'weights': 'uniform'}\n"
     ]
    }
   ],
   "source": [
    "from sklearn.model_selection import GridSearchCV\n",
    "\n",
    "ss = StandardScaler(with_mean=True, with_std=True)\n",
    "X_train_transform_ss = ss.fit_transform(X_train)\n",
    "\n",
    "si = SimpleImputer(strategy='mean')\n",
    "X_train_transform_ss_si = si.fit_transform(X_train_transform_ss)\n",
    "\n",
    "clf = KNeighborsClassifier()\n",
    "\n",
    "# Puedes poner tu propia métrica\n",
    "cv = GridSearchCV(clf, \n",
    "                  param_grid = {'n_neighbors': [1, 3, 5]},\n",
    "                  scoring = 'accuracy', refit = True,\n",
    "                  cv = 3,\n",
    "                 return_train_score=True)\n",
    "\n",
    "cv.fit(X_train_transform_ss_si, y_train)\n",
    "                  \n",
    "\n",
    "cv_results = pd.DataFrame(cv.cv_results_)\n",
    "display(cv_results[['param_n_neighbors', 'mean_train_score', 'mean_test_score', 'rank_test_score']])\n",
    "\n",
    "print(cv.best_estimator_.get_params())\n",
    "\n",
    "# save: DISCLAIMER: model registry\n",
    "with open(os.path.join('pkl','round_3','standard_scaler.pkl'),'wb') as f:\n",
    "    pickle.dump(ss,f)\n",
    "\n",
    "with open(os.path.join('pkl','round_3','simple_imputer.pkl'),'wb') as f:\n",
    "    pickle.dump(si,f)\n",
    "\n",
    "# WATCH OUT!\n",
    "with open(os.path.join('pkl','round_3','knn.pkl'),'wb') as f:\n",
    "    pickle.dump(cv.best_estimator_,f)"
   ]
  },
  {
   "cell_type": "markdown",
   "id": "5fbe8edd-3063-47ae-8f8e-6636f62f8068",
   "metadata": {},
   "source": [
    "### TEST"
   ]
  },
  {
   "cell_type": "code",
   "execution_count": 13,
   "id": "8a7209e1-810b-45da-b637-2c9b408da3e4",
   "metadata": {},
   "outputs": [
    {
     "name": "stdout",
     "output_type": "stream",
     "text": [
      "Accuracy in test:  0.55\n"
     ]
    }
   ],
   "source": [
    "with open(os.path.join('pkl','round_3','standard_scaler.pkl'), 'rb') as f:\n",
    "    ss = pickle.load(f)\n",
    "\n",
    "with open(os.path.join('pkl','round_3','simple_imputer.pkl'), 'rb') as f:\n",
    "    si = pickle.load(f)\n",
    "\n",
    "with open(os.path.join('pkl','round_3','knn.pkl'), 'rb') as f:\n",
    "    clf = pickle.load(f)\n",
    "\n",
    "\n",
    "X_test_transf_ss = ss.transform(X_test)\n",
    "X_test_transf_ss_si = si.transform(X_test_transf_ss)\n",
    "\n",
    "print(\"Accuracy in test: \", accuracy_score(y_test, clf.predict(X_test_transf_ss_si)))"
   ]
  },
  {
   "cell_type": "markdown",
   "id": "441d3e32-14ae-44eb-870e-322e9ba9d8ce",
   "metadata": {},
   "source": [
    "## Round 4\n",
    "- Data leakage en el preprocesado! El CV también hay que hacerlo sobre el preprocesado para:\n",
    "  1. Asegurar que los datos de los folds de CV son \"vírgenes\" y miden lo mejor posible el poder de generalización.\n",
    "  2. Poder ajustar hiperparámetros sobre los algoritmos de preprocesado. ¡Sí! Hiperparámetros en el preprocesado!"
   ]
  },
  {
   "cell_type": "markdown",
   "id": "7edbbff3-581b-4654-bb66-f4ea508c6bf1",
   "metadata": {},
   "source": [
    "## Train\n",
    "- Remarcar que podemos poner todos los transformers que queramos y un (opcionalmente) estimador al final\n",
    "- https://scikit-learn.org/stable/modules/generated/sklearn.pipeline.Pipeline.html"
   ]
  },
  {
   "cell_type": "code",
   "execution_count": 14,
   "id": "2dedd598-aac3-4cb8-85a4-805374735e90",
   "metadata": {},
   "outputs": [
    {
     "data": {
      "text/plain": [
       "Pipeline(steps=[('scaler', StandardScaler()), ('imputer', SimpleImputer()),\n",
       "                ('classifier', KNeighborsClassifier())])"
      ]
     },
     "execution_count": 14,
     "metadata": {},
     "output_type": "execute_result"
    }
   ],
   "source": [
    "from sklearn.pipeline import Pipeline\n",
    "\n",
    "pl=Pipeline([\n",
    "    ('scaler', StandardScaler()),\n",
    "    ('imputer', SimpleImputer()),\n",
    "    ('classifier',KNeighborsClassifier())\n",
    "])\n",
    "\n",
    "pl.fit(X_train,y_train)"
   ]
  },
  {
   "cell_type": "markdown",
   "id": "49bac664-e0e6-443d-afcb-2e43c1076067",
   "metadata": {},
   "source": [
    "- Pero es que puedo hacerlo también para ajustar hiperparámetros de lo que quiera!"
   ]
  },
  {
   "cell_type": "code",
   "execution_count": 15,
   "id": "4aeafe6a-2112-41e8-99cf-9e450709b849",
   "metadata": {},
   "outputs": [
    {
     "data": {
      "text/html": [
       "<div>\n",
       "<style scoped>\n",
       "    .dataframe tbody tr th:only-of-type {\n",
       "        vertical-align: middle;\n",
       "    }\n",
       "\n",
       "    .dataframe tbody tr th {\n",
       "        vertical-align: top;\n",
       "    }\n",
       "\n",
       "    .dataframe thead th {\n",
       "        text-align: right;\n",
       "    }\n",
       "</style>\n",
       "<table border=\"1\" class=\"dataframe\">\n",
       "  <thead>\n",
       "    <tr style=\"text-align: right;\">\n",
       "      <th></th>\n",
       "      <th>param_classifier__n_neighbors</th>\n",
       "      <th>mean_train_score</th>\n",
       "      <th>mean_test_score</th>\n",
       "      <th>rank_test_score</th>\n",
       "    </tr>\n",
       "  </thead>\n",
       "  <tbody>\n",
       "    <tr>\n",
       "      <th>0</th>\n",
       "      <td>1</td>\n",
       "      <td>1.000000</td>\n",
       "      <td>0.578974</td>\n",
       "      <td>3</td>\n",
       "    </tr>\n",
       "    <tr>\n",
       "      <th>1</th>\n",
       "      <td>3</td>\n",
       "      <td>0.815686</td>\n",
       "      <td>0.657436</td>\n",
       "      <td>2</td>\n",
       "    </tr>\n",
       "    <tr>\n",
       "      <th>2</th>\n",
       "      <td>5</td>\n",
       "      <td>0.762745</td>\n",
       "      <td>0.709231</td>\n",
       "      <td>1</td>\n",
       "    </tr>\n",
       "  </tbody>\n",
       "</table>\n",
       "</div>"
      ],
      "text/plain": [
       "  param_classifier__n_neighbors  mean_train_score  mean_test_score  \\\n",
       "0                             1          1.000000         0.578974   \n",
       "1                             3          0.815686         0.657436   \n",
       "2                             5          0.762745         0.709231   \n",
       "\n",
       "   rank_test_score  \n",
       "0                3  \n",
       "1                2  \n",
       "2                1  "
      ]
     },
     "metadata": {},
     "output_type": "display_data"
    }
   ],
   "source": [
    "cv = GridSearchCV(pl, \n",
    "                  param_grid = {'classifier__n_neighbors': [1, 3, 5]},\n",
    "                  scoring = 'accuracy', refit = True,\n",
    "                  cv = 3,\n",
    "                 return_train_score=True)\n",
    "\n",
    "cv.fit(X_train,y_train)\n",
    "\n",
    "cv_results = pd.DataFrame(cv.cv_results_)\n",
    "display(cv_results[['param_classifier__n_neighbors', 'mean_train_score', 'mean_test_score', 'rank_test_score']])\n",
    "\n",
    "\n",
    "# WATCH OUT!\n",
    "with open(os.path.join('pkl','round_4','pipeline.pkl'),'wb') as f:\n",
    "    pickle.dump(cv.best_estimator_,f)"
   ]
  },
  {
   "cell_type": "markdown",
   "id": "71e5c565-fada-4614-8c38-05d226b56150",
   "metadata": {},
   "source": [
    "### TEST\n",
    "- No tiene buena pinta realmente... ¿y si pruebo otro clas"
   ]
  },
  {
   "cell_type": "code",
   "execution_count": 16,
   "id": "d69872cb-4e6c-4eeb-b8b8-c8e534f178d5",
   "metadata": {},
   "outputs": [
    {
     "name": "stdout",
     "output_type": "stream",
     "text": [
      "Accuracy in test:  0.55\n"
     ]
    }
   ],
   "source": [
    "with open(os.path.join('pkl','round_4','pipeline.pkl'), 'rb') as f:\n",
    "    pipe = pickle.load(f)\n",
    "\n",
    "print(\"Accuracy in test: \", accuracy_score(y_test, pipe.predict(X_test)))"
   ]
  },
  {
   "cell_type": "markdown",
   "id": "7a46c396-880d-4e3a-843d-c771438ff990",
   "metadata": {},
   "source": [
    "- No tiene buena pinta realmente... la frontera de decisión.... y si pruebo otro tipo de clasificador?"
   ]
  },
  {
   "cell_type": "code",
   "execution_count": 17,
   "id": "7b42d4ce-d77a-49f9-8869-b57b9b51a53c",
   "metadata": {},
   "outputs": [
    {
     "name": "stderr",
     "output_type": "stream",
     "text": [
      "/Users/irene/Documents/environments/env_pydata_sklearn_1_0/lib/python3.9/site-packages/sklearn/base.py:450: UserWarning: X does not have valid feature names, but StandardScaler was fitted with feature names\n",
      "  warnings.warn(\n"
     ]
    },
    {
     "data": {
      "image/png": "[encoded data removed]",
      "text/plain": [
       "<Figure size 500x500 with 1 Axes>"
      ]
     },
     "metadata": {},
     "output_type": "display_data"
    }
   ],
   "source": [
    "plot_decision_boundary(pipe, X_train,y_train)"
   ]
  },
  {
   "cell_type": "markdown",
   "id": "3455892f-6e0d-4520-8262-34f19f676c89",
   "metadata": {},
   "source": [
    "## Round 5"
   ]
  },
  {
   "cell_type": "markdown",
   "id": "890e8616-8940-4da4-8fc8-4cb2d57d5549",
   "metadata": {},
   "source": [
    "### TRAIN\n",
    "- You can (and should!) include feature selection in the pipeline"
   ]
  },
  {
   "cell_type": "code",
   "execution_count": 30,
   "id": "820a92c8-1c61-4879-a1c9-17c1ab2fab59",
   "metadata": {},
   "outputs": [
    {
     "data": {
      "text/html": [
       "<div>\n",
       "<style scoped>\n",
       "    .dataframe tbody tr th:only-of-type {\n",
       "        vertical-align: middle;\n",
       "    }\n",
       "\n",
       "    .dataframe tbody tr th {\n",
       "        vertical-align: top;\n",
       "    }\n",
       "\n",
       "    .dataframe thead th {\n",
       "        text-align: right;\n",
       "    }\n",
       "</style>\n",
       "<table border=\"1\" class=\"dataframe\">\n",
       "  <thead>\n",
       "    <tr style=\"text-align: right;\">\n",
       "      <th></th>\n",
       "      <th>param_imputer__strategy</th>\n",
       "      <th>param_feature_selection__k</th>\n",
       "      <th>param_classifier</th>\n",
       "      <th>param_classifier__n_neighbors</th>\n",
       "      <th>param_classifier__C</th>\n",
       "      <th>mean_train_score</th>\n",
       "      <th>mean_test_score</th>\n",
       "      <th>rank_test_score</th>\n",
       "    </tr>\n",
       "  </thead>\n",
       "  <tbody>\n",
       "    <tr>\n",
       "      <th>0</th>\n",
       "      <td>mean</td>\n",
       "      <td>1</td>\n",
       "      <td>KNeighborsClassifier()</td>\n",
       "      <td>1</td>\n",
       "      <td>NaN</td>\n",
       "      <td>0.980261</td>\n",
       "      <td>0.736410</td>\n",
       "      <td>15</td>\n",
       "    </tr>\n",
       "    <tr>\n",
       "      <th>1</th>\n",
       "      <td>median</td>\n",
       "      <td>1</td>\n",
       "      <td>KNeighborsClassifier()</td>\n",
       "      <td>1</td>\n",
       "      <td>NaN</td>\n",
       "      <td>0.967190</td>\n",
       "      <td>0.736410</td>\n",
       "      <td>15</td>\n",
       "    </tr>\n",
       "    <tr>\n",
       "      <th>2</th>\n",
       "      <td>mean</td>\n",
       "      <td>2</td>\n",
       "      <td>KNeighborsClassifier()</td>\n",
       "      <td>1</td>\n",
       "      <td>NaN</td>\n",
       "      <td>1.000000</td>\n",
       "      <td>0.578974</td>\n",
       "      <td>27</td>\n",
       "    </tr>\n",
       "    <tr>\n",
       "      <th>3</th>\n",
       "      <td>median</td>\n",
       "      <td>2</td>\n",
       "      <td>KNeighborsClassifier()</td>\n",
       "      <td>1</td>\n",
       "      <td>NaN</td>\n",
       "      <td>1.000000</td>\n",
       "      <td>0.566154</td>\n",
       "      <td>32</td>\n",
       "    </tr>\n",
       "    <tr>\n",
       "      <th>4</th>\n",
       "      <td>mean</td>\n",
       "      <td>1</td>\n",
       "      <td>KNeighborsClassifier()</td>\n",
       "      <td>3</td>\n",
       "      <td>NaN</td>\n",
       "      <td>0.835686</td>\n",
       "      <td>0.683590</td>\n",
       "      <td>23</td>\n",
       "    </tr>\n",
       "    <tr>\n",
       "      <th>5</th>\n",
       "      <td>median</td>\n",
       "      <td>1</td>\n",
       "      <td>KNeighborsClassifier()</td>\n",
       "      <td>3</td>\n",
       "      <td>NaN</td>\n",
       "      <td>0.842092</td>\n",
       "      <td>0.736923</td>\n",
       "      <td>14</td>\n",
       "    </tr>\n",
       "    <tr>\n",
       "      <th>6</th>\n",
       "      <td>mean</td>\n",
       "      <td>2</td>\n",
       "      <td>KNeighborsClassifier()</td>\n",
       "      <td>3</td>\n",
       "      <td>NaN</td>\n",
       "      <td>0.815686</td>\n",
       "      <td>0.657436</td>\n",
       "      <td>25</td>\n",
       "    </tr>\n",
       "    <tr>\n",
       "      <th>7</th>\n",
       "      <td>median</td>\n",
       "      <td>2</td>\n",
       "      <td>KNeighborsClassifier()</td>\n",
       "      <td>3</td>\n",
       "      <td>NaN</td>\n",
       "      <td>0.809020</td>\n",
       "      <td>0.644615</td>\n",
       "      <td>26</td>\n",
       "    </tr>\n",
       "    <tr>\n",
       "      <th>8</th>\n",
       "      <td>mean</td>\n",
       "      <td>1</td>\n",
       "      <td>KNeighborsClassifier()</td>\n",
       "      <td>5</td>\n",
       "      <td>NaN</td>\n",
       "      <td>0.782745</td>\n",
       "      <td>0.696410</td>\n",
       "      <td>22</td>\n",
       "    </tr>\n",
       "    <tr>\n",
       "      <th>9</th>\n",
       "      <td>median</td>\n",
       "      <td>1</td>\n",
       "      <td>KNeighborsClassifier()</td>\n",
       "      <td>5</td>\n",
       "      <td>NaN</td>\n",
       "      <td>0.802353</td>\n",
       "      <td>0.749744</td>\n",
       "      <td>12</td>\n",
       "    </tr>\n",
       "    <tr>\n",
       "      <th>10</th>\n",
       "      <td>mean</td>\n",
       "      <td>2</td>\n",
       "      <td>KNeighborsClassifier()</td>\n",
       "      <td>5</td>\n",
       "      <td>NaN</td>\n",
       "      <td>0.762745</td>\n",
       "      <td>0.709231</td>\n",
       "      <td>21</td>\n",
       "    </tr>\n",
       "    <tr>\n",
       "      <th>11</th>\n",
       "      <td>median</td>\n",
       "      <td>2</td>\n",
       "      <td>KNeighborsClassifier()</td>\n",
       "      <td>5</td>\n",
       "      <td>NaN</td>\n",
       "      <td>0.756209</td>\n",
       "      <td>0.683077</td>\n",
       "      <td>24</td>\n",
       "    </tr>\n",
       "    <tr>\n",
       "      <th>12</th>\n",
       "      <td>mean</td>\n",
       "      <td>1</td>\n",
       "      <td>LogisticRegression(random_state=42)</td>\n",
       "      <td>NaN</td>\n",
       "      <td>0.01</td>\n",
       "      <td>0.578954</td>\n",
       "      <td>0.578974</td>\n",
       "      <td>27</td>\n",
       "    </tr>\n",
       "    <tr>\n",
       "      <th>13</th>\n",
       "      <td>median</td>\n",
       "      <td>1</td>\n",
       "      <td>LogisticRegression(random_state=42)</td>\n",
       "      <td>NaN</td>\n",
       "      <td>0.01</td>\n",
       "      <td>0.578954</td>\n",
       "      <td>0.578974</td>\n",
       "      <td>27</td>\n",
       "    </tr>\n",
       "    <tr>\n",
       "      <th>14</th>\n",
       "      <td>mean</td>\n",
       "      <td>2</td>\n",
       "      <td>LogisticRegression(random_state=42)</td>\n",
       "      <td>NaN</td>\n",
       "      <td>0.01</td>\n",
       "      <td>0.578954</td>\n",
       "      <td>0.578974</td>\n",
       "      <td>27</td>\n",
       "    </tr>\n",
       "    <tr>\n",
       "      <th>15</th>\n",
       "      <td>median</td>\n",
       "      <td>2</td>\n",
       "      <td>LogisticRegression(random_state=42)</td>\n",
       "      <td>NaN</td>\n",
       "      <td>0.01</td>\n",
       "      <td>0.578954</td>\n",
       "      <td>0.578974</td>\n",
       "      <td>27</td>\n",
       "    </tr>\n",
       "    <tr>\n",
       "      <th>16</th>\n",
       "      <td>mean</td>\n",
       "      <td>1</td>\n",
       "      <td>LogisticRegression(random_state=42)</td>\n",
       "      <td>NaN</td>\n",
       "      <td>0.1</td>\n",
       "      <td>0.729935</td>\n",
       "      <td>0.710256</td>\n",
       "      <td>17</td>\n",
       "    </tr>\n",
       "    <tr>\n",
       "      <th>17</th>\n",
       "      <td>median</td>\n",
       "      <td>1</td>\n",
       "      <td>LogisticRegression(random_state=42)</td>\n",
       "      <td>NaN</td>\n",
       "      <td>0.1</td>\n",
       "      <td>0.729935</td>\n",
       "      <td>0.710256</td>\n",
       "      <td>17</td>\n",
       "    </tr>\n",
       "    <tr>\n",
       "      <th>18</th>\n",
       "      <td>mean</td>\n",
       "      <td>2</td>\n",
       "      <td>LogisticRegression(random_state=42)</td>\n",
       "      <td>NaN</td>\n",
       "      <td>0.1</td>\n",
       "      <td>0.723399</td>\n",
       "      <td>0.709744</td>\n",
       "      <td>19</td>\n",
       "    </tr>\n",
       "    <tr>\n",
       "      <th>19</th>\n",
       "      <td>median</td>\n",
       "      <td>2</td>\n",
       "      <td>LogisticRegression(random_state=42)</td>\n",
       "      <td>NaN</td>\n",
       "      <td>0.1</td>\n",
       "      <td>0.723399</td>\n",
       "      <td>0.709744</td>\n",
       "      <td>19</td>\n",
       "    </tr>\n",
       "    <tr>\n",
       "      <th>20</th>\n",
       "      <td>mean</td>\n",
       "      <td>1</td>\n",
       "      <td>LogisticRegression(random_state=42)</td>\n",
       "      <td>NaN</td>\n",
       "      <td>1.0</td>\n",
       "      <td>0.763007</td>\n",
       "      <td>0.763077</td>\n",
       "      <td>1</td>\n",
       "    </tr>\n",
       "    <tr>\n",
       "      <th>21</th>\n",
       "      <td>median</td>\n",
       "      <td>1</td>\n",
       "      <td>LogisticRegression(random_state=42)</td>\n",
       "      <td>NaN</td>\n",
       "      <td>1.0</td>\n",
       "      <td>0.763007</td>\n",
       "      <td>0.763077</td>\n",
       "      <td>1</td>\n",
       "    </tr>\n",
       "    <tr>\n",
       "      <th>22</th>\n",
       "      <td>mean</td>\n",
       "      <td>2</td>\n",
       "      <td>LogisticRegression(random_state=42)</td>\n",
       "      <td>NaN</td>\n",
       "      <td>1.0</td>\n",
       "      <td>0.743268</td>\n",
       "      <td>0.762564</td>\n",
       "      <td>7</td>\n",
       "    </tr>\n",
       "    <tr>\n",
       "      <th>23</th>\n",
       "      <td>median</td>\n",
       "      <td>2</td>\n",
       "      <td>LogisticRegression(random_state=42)</td>\n",
       "      <td>NaN</td>\n",
       "      <td>1.0</td>\n",
       "      <td>0.743268</td>\n",
       "      <td>0.749231</td>\n",
       "      <td>13</td>\n",
       "    </tr>\n",
       "    <tr>\n",
       "      <th>24</th>\n",
       "      <td>mean</td>\n",
       "      <td>1</td>\n",
       "      <td>LogisticRegression(random_state=42)</td>\n",
       "      <td>NaN</td>\n",
       "      <td>10.0</td>\n",
       "      <td>0.763007</td>\n",
       "      <td>0.763077</td>\n",
       "      <td>1</td>\n",
       "    </tr>\n",
       "    <tr>\n",
       "      <th>25</th>\n",
       "      <td>median</td>\n",
       "      <td>1</td>\n",
       "      <td>LogisticRegression(random_state=42)</td>\n",
       "      <td>NaN</td>\n",
       "      <td>10.0</td>\n",
       "      <td>0.763007</td>\n",
       "      <td>0.763077</td>\n",
       "      <td>1</td>\n",
       "    </tr>\n",
       "    <tr>\n",
       "      <th>26</th>\n",
       "      <td>mean</td>\n",
       "      <td>2</td>\n",
       "      <td>LogisticRegression(random_state=42)</td>\n",
       "      <td>NaN</td>\n",
       "      <td>10.0</td>\n",
       "      <td>0.749804</td>\n",
       "      <td>0.762564</td>\n",
       "      <td>7</td>\n",
       "    </tr>\n",
       "    <tr>\n",
       "      <th>27</th>\n",
       "      <td>median</td>\n",
       "      <td>2</td>\n",
       "      <td>LogisticRegression(random_state=42)</td>\n",
       "      <td>NaN</td>\n",
       "      <td>10.0</td>\n",
       "      <td>0.749804</td>\n",
       "      <td>0.762564</td>\n",
       "      <td>7</td>\n",
       "    </tr>\n",
       "    <tr>\n",
       "      <th>28</th>\n",
       "      <td>mean</td>\n",
       "      <td>1</td>\n",
       "      <td>LogisticRegression(random_state=42)</td>\n",
       "      <td>NaN</td>\n",
       "      <td>100.0</td>\n",
       "      <td>0.763007</td>\n",
       "      <td>0.763077</td>\n",
       "      <td>1</td>\n",
       "    </tr>\n",
       "    <tr>\n",
       "      <th>29</th>\n",
       "      <td>median</td>\n",
       "      <td>1</td>\n",
       "      <td>LogisticRegression(random_state=42)</td>\n",
       "      <td>NaN</td>\n",
       "      <td>100.0</td>\n",
       "      <td>0.763007</td>\n",
       "      <td>0.763077</td>\n",
       "      <td>1</td>\n",
       "    </tr>\n",
       "    <tr>\n",
       "      <th>30</th>\n",
       "      <td>mean</td>\n",
       "      <td>2</td>\n",
       "      <td>LogisticRegression(random_state=42)</td>\n",
       "      <td>NaN</td>\n",
       "      <td>100.0</td>\n",
       "      <td>0.749804</td>\n",
       "      <td>0.762564</td>\n",
       "      <td>7</td>\n",
       "    </tr>\n",
       "    <tr>\n",
       "      <th>31</th>\n",
       "      <td>median</td>\n",
       "      <td>2</td>\n",
       "      <td>LogisticRegression(random_state=42)</td>\n",
       "      <td>NaN</td>\n",
       "      <td>100.0</td>\n",
       "      <td>0.749804</td>\n",
       "      <td>0.762564</td>\n",
       "      <td>7</td>\n",
       "    </tr>\n",
       "  </tbody>\n",
       "</table>\n",
       "</div>"
      ],
      "text/plain": [
       "   param_imputer__strategy param_feature_selection__k  \\\n",
       "0                     mean                          1   \n",
       "1                   median                          1   \n",
       "2                     mean                          2   \n",
       "3                   median                          2   \n",
       "4                     mean                          1   \n",
       "5                   median                          1   \n",
       "6                     mean                          2   \n",
       "7                   median                          2   \n",
       "8                     mean                          1   \n",
       "9                   median                          1   \n",
       "10                    mean                          2   \n",
       "11                  median                          2   \n",
       "12                    mean                          1   \n",
       "13                  median                          1   \n",
       "14                    mean                          2   \n",
       "15                  median                          2   \n",
       "16                    mean                          1   \n",
       "17                  median                          1   \n",
       "18                    mean                          2   \n",
       "19                  median                          2   \n",
       "20                    mean                          1   \n",
       "21                  median                          1   \n",
       "22                    mean                          2   \n",
       "23                  median                          2   \n",
       "24                    mean                          1   \n",
       "25                  median                          1   \n",
       "26                    mean                          2   \n",
       "27                  median                          2   \n",
       "28                    mean                          1   \n",
       "29                  median                          1   \n",
       "30                    mean                          2   \n",
       "31                  median                          2   \n",
       "\n",
       "                       param_classifier param_classifier__n_neighbors  \\\n",
       "0                KNeighborsClassifier()                             1   \n",
       "1                KNeighborsClassifier()                             1   \n",
       "2                KNeighborsClassifier()                             1   \n",
       "3                KNeighborsClassifier()                             1   \n",
       "4                KNeighborsClassifier()                             3   \n",
       "5                KNeighborsClassifier()                             3   \n",
       "6                KNeighborsClassifier()                             3   \n",
       "7                KNeighborsClassifier()                             3   \n",
       "8                KNeighborsClassifier()                             5   \n",
       "9                KNeighborsClassifier()                             5   \n",
       "10               KNeighborsClassifier()                             5   \n",
       "11               KNeighborsClassifier()                             5   \n",
       "12  LogisticRegression(random_state=42)                           NaN   \n",
       "13  LogisticRegression(random_state=42)                           NaN   \n",
       "14  LogisticRegression(random_state=42)                           NaN   \n",
       "15  LogisticRegression(random_state=42)                           NaN   \n",
       "16  LogisticRegression(random_state=42)                           NaN   \n",
       "17  LogisticRegression(random_state=42)                           NaN   \n",
       "18  LogisticRegression(random_state=42)                           NaN   \n",
       "19  LogisticRegression(random_state=42)                           NaN   \n",
       "20  LogisticRegression(random_state=42)                           NaN   \n",
       "21  LogisticRegression(random_state=42)                           NaN   \n",
       "22  LogisticRegression(random_state=42)                           NaN   \n",
       "23  LogisticRegression(random_state=42)                           NaN   \n",
       "24  LogisticRegression(random_state=42)                           NaN   \n",
       "25  LogisticRegression(random_state=42)                           NaN   \n",
       "26  LogisticRegression(random_state=42)                           NaN   \n",
       "27  LogisticRegression(random_state=42)                           NaN   \n",
       "28  LogisticRegression(random_state=42)                           NaN   \n",
       "29  LogisticRegression(random_state=42)                           NaN   \n",
       "30  LogisticRegression(random_state=42)                           NaN   \n",
       "31  LogisticRegression(random_state=42)                           NaN   \n",
       "\n",
       "   param_classifier__C  mean_train_score  mean_test_score  rank_test_score  \n",
       "0                  NaN          0.980261         0.736410               15  \n",
       "1                  NaN          0.967190         0.736410               15  \n",
       "2                  NaN          1.000000         0.578974               27  \n",
       "3                  NaN          1.000000         0.566154               32  \n",
       "4                  NaN          0.835686         0.683590               23  \n",
       "5                  NaN          0.842092         0.736923               14  \n",
       "6                  NaN          0.815686         0.657436               25  \n",
       "7                  NaN          0.809020         0.644615               26  \n",
       "8                  NaN          0.782745         0.696410               22  \n",
       "9                  NaN          0.802353         0.749744               12  \n",
       "10                 NaN          0.762745         0.709231               21  \n",
       "11                 NaN          0.756209         0.683077               24  \n",
       "12                0.01          0.578954         0.578974               27  \n",
       "13                0.01          0.578954         0.578974               27  \n",
       "14                0.01          0.578954         0.578974               27  \n",
       "15                0.01          0.578954         0.578974               27  \n",
       "16                 0.1          0.729935         0.710256               17  \n",
       "17                 0.1          0.729935         0.710256               17  \n",
       "18                 0.1          0.723399         0.709744               19  \n",
       "19                 0.1          0.723399         0.709744               19  \n",
       "20                 1.0          0.763007         0.763077                1  \n",
       "21                 1.0          0.763007         0.763077                1  \n",
       "22                 1.0          0.743268         0.762564                7  \n",
       "23                 1.0          0.743268         0.749231               13  \n",
       "24                10.0          0.763007         0.763077                1  \n",
       "25                10.0          0.763007         0.763077                1  \n",
       "26                10.0          0.749804         0.762564                7  \n",
       "27                10.0          0.749804         0.762564                7  \n",
       "28               100.0          0.763007         0.763077                1  \n",
       "29               100.0          0.763007         0.763077                1  \n",
       "30               100.0          0.749804         0.762564                7  \n",
       "31               100.0          0.749804         0.762564                7  "
      ]
     },
     "metadata": {},
     "output_type": "display_data"
    },
    {
     "name": "stdout",
     "output_type": "stream",
     "text": [
      "{'memory': None, 'steps': [('scaler', StandardScaler()), ('imputer', SimpleImputer()), ('feature_selection', SelectKBest(k=1)), ('classifier', LogisticRegression(random_state=42))], 'verbose': False, 'scaler': StandardScaler(), 'imputer': SimpleImputer(), 'feature_selection': SelectKBest(k=1), 'classifier': LogisticRegression(random_state=42), 'scaler__copy': True, 'scaler__with_mean': True, 'scaler__with_std': True, 'imputer__add_indicator': False, 'imputer__copy': True, 'imputer__fill_value': None, 'imputer__missing_values': nan, 'imputer__strategy': 'mean', 'imputer__verbose': 0, 'feature_selection__k': 1, 'feature_selection__score_func': <function f_classif at 0x1774cc550>, 'classifier__C': 1.0, 'classifier__class_weight': None, 'classifier__dual': False, 'classifier__fit_intercept': True, 'classifier__intercept_scaling': 1, 'classifier__l1_ratio': None, 'classifier__max_iter': 100, 'classifier__multi_class': 'auto', 'classifier__n_jobs': None, 'classifier__penalty': 'l2', 'classifier__random_state': 42, 'classifier__solver': 'lbfgs', 'classifier__tol': 0.0001, 'classifier__verbose': 0, 'classifier__warm_start': False}\n"
     ]
    }
   ],
   "source": [
    "from sklearn.feature_selection import SelectKBest, f_classif \n",
    "from sklearn.linear_model import LogisticRegression\n",
    "\n",
    "pl=Pipeline([\n",
    "    ('scaler', StandardScaler()),\n",
    "    ('imputer', SimpleImputer()),\n",
    "    ('feature_selection', SelectKBest(score_func=f_classif)),\n",
    "    ('classifier',KNeighborsClassifier())\n",
    "])\n",
    "\n",
    "my_param_grid = [\n",
    "    {\n",
    "     'imputer__strategy': ['mean', 'median'],\n",
    "     'feature_selection__k': [1,2],\n",
    "     'classifier': [KNeighborsClassifier()],\n",
    "     'classifier__n_neighbors': [1, 3, 5],\n",
    "    },\n",
    "    {\n",
    "     'imputer__strategy': ['mean', 'median'],\n",
    "     'feature_selection__k': [1,2],\n",
    "     'classifier': [LogisticRegression(random_state=42)],\n",
    "     'classifier__C': [0.01, 0.1, 1.0, 10.0, 100.0]\n",
    "    }\n",
    "]\n",
    "\n",
    "cv = GridSearchCV(pl, \n",
    "                  param_grid = my_param_grid,\n",
    "                  scoring = 'accuracy', refit = True,\n",
    "                  cv = 3,\n",
    "                 return_train_score=True)\n",
    "\n",
    "cv.fit(X_train,y_train)\n",
    "\n",
    "cv_results = pd.DataFrame(cv.cv_results_)\n",
    "display(cv_results[['param_imputer__strategy','param_feature_selection__k','param_classifier','param_classifier__n_neighbors', 'param_classifier__C', 'mean_train_score', 'mean_test_score', 'rank_test_score']])\n",
    "print(cv.best_estimator_.get_params())\n",
    "\n",
    "# WATCH OUT!\n",
    "with open(os.path.join('pkl','round_5','pipeline.pkl'),'wb') as f:\n",
    "    pickle.dump(cv.best_estimator_,f)"
   ]
  },
  {
   "cell_type": "code",
   "execution_count": 31,
   "id": "c7fdf642-62fe-4668-97c8-f653d4b31353",
   "metadata": {},
   "outputs": [
    {
     "name": "stderr",
     "output_type": "stream",
     "text": [
      "/Users/irene/Documents/environments/env_pydata_sklearn_1_0/lib/python3.9/site-packages/sklearn/base.py:450: UserWarning: X does not have valid feature names, but StandardScaler was fitted with feature names\n",
      "  warnings.warn(\n"
     ]
    },
    {
     "data": {
      "image/png": "[encoded data removed]",
      "text/plain": [
       "<Figure size 500x500 with 1 Axes>"
      ]
     },
     "metadata": {},
     "output_type": "display_data"
    }
   ],
   "source": [
    "plot_decision_boundary(cv.best_estimator_, X_train,y_train)"
   ]
  },
  {
   "cell_type": "markdown",
   "id": "93d94ebb-79f3-46ba-b57f-2411e3342d28",
   "metadata": {},
   "source": [
    "### TEST"
   ]
  },
  {
   "cell_type": "code",
   "execution_count": 32,
   "id": "1bd83508-05c0-44bf-b0ea-3b425726c561",
   "metadata": {},
   "outputs": [
    {
     "name": "stdout",
     "output_type": "stream",
     "text": [
      "Accuracy in test:  0.75\n"
     ]
    }
   ],
   "source": [
    "with open(os.path.join('pkl','round_5','pipeline.pkl'), 'rb') as f:\n",
    "    pipe = pickle.load(f)\n",
    "\n",
    "print(\"Accuracy in test: \", accuracy_score(y_test, pipe.predict(X_test)))"
   ]
  },
  {
   "cell_type": "code",
   "execution_count": null,
   "id": "62ffd6f0-70b4-4fe7-baf7-8e3a813d3c4b",
   "metadata": {},
   "outputs": [],
   "source": []
  }
 ],
 "metadata": {
  "kernelspec": {
   "display_name": "kenel_pydata_sklearn_1_0",
   "language": "python",
   "name": "env_pydata_sklearn_1_0"
  },
  "language_info": {
   "codemirror_mode": {
    "name": "ipython",
    "version": 3
   },
   "file_extension": ".py",
   "mimetype": "text/x-python",
   "name": "python",
   "nbconvert_exporter": "python",
   "pygments_lexer": "ipython3",
   "version": "3.9.6"
  }
 },
 "nbformat": 4,
 "nbformat_minor": 5
}
