{
 "cells": [
  {
   "cell_type": "markdown",
   "id": "2068862c-22e0-46dd-8c78-7c3af26442ec",
   "metadata": {},
   "source": [
    "# Scikit-learn pipelines examples for toy dataset with continuous and categorical features\n",
    "* Round 6 - Round 8 of Pydata Talk\n",
    "* Toy example generated with https://guoguibing.github.io/librec/datagen.html"
   ]
  },
  {
   "cell_type": "code",
   "execution_count": null,
   "id": "9ab13852-a3c0-44d0-bb03-32aa92287495",
   "metadata": {},
   "outputs": [],
   "source": [
    "import os\n",
    "import pickle\n",
    "import numpy as np\n",
    "import pandas as pd"
   ]
  },
  {
   "cell_type": "code",
   "execution_count": null,
   "id": "f7ec53e1-7cc3-4ff9-814e-1b957d0b7a1c",
   "metadata": {},
   "outputs": [],
   "source": [
    "data = pd.read_csv(\"toy_example.csv\")\n",
    "data.iloc[[10,48,61], 0] = np.nan\n",
    "data.iloc[[22, 34], 1] = np.nan\n",
    "data['tenure_category'] = pd.cut(data['tenure'], bins=[0, 1, 3, 6, 100], include_lowest=True,\n",
    "                                 labels=['first_year', 'junior', 'senior', 'master'])\n",
    "data.drop(columns=['tenure'], inplace=True)\n",
    "data.head()"
   ]
  },
  {
   "cell_type": "code",
   "execution_count": null,
   "id": "e99d3017-21f8-4d19-9af4-a6c5ab6a701a",
   "metadata": {},
   "outputs": [],
   "source": [
    "from sklearn.model_selection import train_test_split\n",
    "\n",
    "X = data.drop(columns='nonpayment').copy()\n",
    "y = data['nonpayment'].copy()\n",
    "\n",
    "# FIX a random_state to make your pipeline reproducible!\n",
    "X_train, X_test, y_train, y_test = train_test_split(X, y, test_size=0.2, random_state=42)"
   ]
  },
  {
   "cell_type": "markdown",
   "id": "b47adda8-f51c-465c-a9e6-47805e1ae85d",
   "metadata": {},
   "source": [
    "## Round 6"
   ]
  },
  {
   "cell_type": "code",
   "execution_count": null,
   "id": "c8bc767e-8954-4b92-8ce9-48bef2e4d7c4",
   "metadata": {},
   "outputs": [],
   "source": [
    "from sklearn.compose import ColumnTransformer\n",
    "from sklearn.pipeline import Pipeline\n",
    "from sklearn.impute import SimpleImputer\n",
    "from sklearn.preprocessing import StandardScaler, OneHotEncoder\n",
    "from sklearn.feature_selection import SelectKBest, f_classif \n",
    "from sklearn.linear_model import LogisticRegression\n",
    "from sklearn.ensemble import RandomForestClassifier\n",
    "from sklearn.model_selection import GridSearchCV"
   ]
  },
  {
   "cell_type": "markdown",
   "id": "f8c03ab3-e560-42be-bc38-e64288d16ca5",
   "metadata": {},
   "source": [
    "### TRAIN"
   ]
  },
  {
   "cell_type": "code",
   "execution_count": null,
   "id": "cf2aecae-2b92-4dc7-9c45-cfeeac055533",
   "metadata": {},
   "outputs": [],
   "source": [
    "continuous_pipeline = Pipeline([\n",
    "    ('scaler', StandardScaler()),\n",
    "    ('imputer', SimpleImputer(strategy='mean')),\n",
    "])\n",
    "\n",
    "categorical_pipeline = Pipeline([\n",
    "    ('imputer', SimpleImputer(strategy='most_frequent')),\n",
    "    ('codification', OneHotEncoder(sparse_output=False))\n",
    "])\n",
    "\n",
    "preprocessing_pipeline = ColumnTransformer([\n",
    "        ('continuous', continuous_pipeline, ['avg_products']),\n",
    "        ('categorical', categorical_pipeline, ['tenure_category'])\n",
    "    ],\n",
    "    remainder = 'drop' \n",
    ")\n",
    "\n",
    "pipeline = Pipeline([\n",
    "    ('preprocess', preprocessing_pipeline),\n",
    "    ('feature_selection', SelectKBest(score_func=f_classif)),\n",
    "    ('classifier', LogisticRegression(random_state=42))])\n",
    "\n",
    "pipeline.set_output(transform=\"pandas\")\n",
    "\n",
    "my_param_grid = [\n",
    "    {\n",
    "     'preprocess__continuous__imputer__strategy': ['mean','median'],\n",
    "     'feature_selection__k': [1,2],\n",
    "     'classifier': [RandomForestClassifier()],\n",
    "     'classifier__n_estimators': [10, 50, 100],\n",
    "    },\n",
    "    {\n",
    "     'preprocess__continuous__imputer__strategy': ['mean','median'],\n",
    "     'feature_selection__k': [1,2],\n",
    "     'classifier': [LogisticRegression(random_state=42)],\n",
    "     'classifier__C': [0.01, 0.1, 1.0, 10.0, 100.0]\n",
    "    }\n",
    "]\n",
    "\n",
    "cv = GridSearchCV(pipeline, \n",
    "                  param_grid = my_param_grid,\n",
    "                  scoring = 'accuracy', refit = True,\n",
    "                  cv = 3,\n",
    "                 return_train_score=True)\n",
    "\n",
    "cv.fit(X_train,y_train)\n",
    "\n",
    "cv_results = pd.DataFrame(cv.cv_results_)\n",
    "display(cv_results[\n",
    "        ['param_preprocess__continuous__imputer__strategy','param_feature_selection__k','param_classifier','param_classifier__n_estimators', \n",
    "         'param_classifier__C', 'mean_train_score', 'mean_test_score', \n",
    "         'rank_test_score']].sort_values(by=\"rank_test_score\").head(3))\n",
    "print(cv.best_estimator_.get_params())\n",
    "\n",
    "\n",
    "# WATCH OUT!\n",
    "with open(os.path.join('pkl','round_6','pipeline.pkl'),'wb') as f:\n",
    "    pickle.dump(cv.best_estimator_,f)"
   ]
  },
  {
   "cell_type": "code",
   "execution_count": null,
   "id": "a338cb19-ace1-4c13-9347-f4b75b569b05",
   "metadata": {},
   "outputs": [],
   "source": [
    "pipeline"
   ]
  },
  {
   "cell_type": "markdown",
   "id": "57ab6e58-6161-430d-980f-b67aa2083161",
   "metadata": {},
   "source": [
    "### PREDICT"
   ]
  },
  {
   "cell_type": "code",
   "execution_count": null,
   "id": "cab1dec7-72fd-43fd-bbff-8895cf09c659",
   "metadata": {},
   "outputs": [],
   "source": [
    "from sklearn.metrics import accuracy_score\n",
    "\n",
    "with open(os.path.join('pkl','round_6','pipeline.pkl'), 'rb') as f:\n",
    "    pipe = pickle.load(f)\n",
    "\n",
    "print(\"Accuracy in test: \", accuracy_score(y_test, pipe.predict(X_test)))"
   ]
  },
  {
   "cell_type": "markdown",
   "id": "20fa3277-48dc-4d05-b961-a478f074c977",
   "metadata": {},
   "source": [
    "## Round 7"
   ]
  },
  {
   "cell_type": "code",
   "execution_count": null,
   "id": "547b8ec2-32e9-4f2a-bf17-145f231f01c4",
   "metadata": {},
   "outputs": [],
   "source": [
    "print(pipe.named_steps.keys())\n",
    "display(pipe.named_steps['preprocess'])\n",
    "print(pipe.named_steps['preprocess'].named_transformers_.keys())\n",
    "print(pipe.named_steps['preprocess'].named_transformers_['categorical'])"
   ]
  },
  {
   "cell_type": "code",
   "execution_count": null,
   "id": "ff3c9bec-e906-42b4-aff3-88c9d89b1ebc",
   "metadata": {},
   "outputs": [],
   "source": [
    "print(\"Variables entrada categorical-imputer: \", \n",
    "      pipe.named_steps['preprocess'].named_transformers_['categorical'].named_steps['imputer'].feature_names_in_)\n",
    "print(\"Variables salida categorical-imputer: \", \n",
    "      pipe.named_steps['preprocess'].named_transformers_['categorical'].named_steps['imputer'].get_feature_names_out())\n",
    "\n",
    "print(\"Variables entrada one hot encoder: \", \n",
    "      pipe.named_steps['preprocess'].named_transformers_['categorical'].named_steps['codification'].feature_names_in_)\n",
    "print(\"Variables salida one hot encoder: \", \n",
    "      pipe.named_steps['preprocess'].named_transformers_['categorical'].named_steps['codification'].get_feature_names_out())"
   ]
  },
  {
   "cell_type": "code",
   "execution_count": null,
   "id": "06174956-009b-4775-998c-adc97fe33af1",
   "metadata": {},
   "outputs": [],
   "source": [
    "fimp = pd.DataFrame(pipe.named_steps['classifier'].coef_.T, columns=['coef'])\n",
    "fimp['feature'] = pipe.named_steps['classifier'].feature_names_in_\n",
    "fimp"
   ]
  },
  {
   "cell_type": "code",
   "execution_count": null,
   "id": "8188cc3f-ba45-4897-b56f-6e1d45f1a778",
   "metadata": {},
   "outputs": [],
   "source": [
    "subpl = Pipeline(pipe.steps[:-2])\n",
    "x_transf = subpl.transform(X_train)\n",
    "x_transf.head(2)"
   ]
  },
  {
   "cell_type": "markdown",
   "id": "a80ca833-ff98-4e56-bbd6-1013e6f9b6be",
   "metadata": {},
   "source": [
    "## Round 8"
   ]
  },
  {
   "cell_type": "code",
   "execution_count": null,
   "id": "57deb243-f900-4ec4-96e0-2244a07ff679",
   "metadata": {},
   "outputs": [],
   "source": [
    "from sklearn.base import BaseEstimator, TransformerMixin\n",
    "\n",
    "class myFeatureSelector(BaseEstimator, TransformerMixin):\n",
    "    def __init__(self, n_features):\n",
    "        self.n_features=n_features\n",
    "        self.selected_features=None\n",
    "\n",
    "    def fit(self, X, y = None):\n",
    "        corr = pd.concat([X,y], axis=1).corr().iloc[:-1,-1].abs()\n",
    "        self.selected_features = list(corr.sort_values(ascending=False).head(self.n_features).index)\n",
    "        return self\n",
    "      \n",
    "    def transform(self, X):\n",
    "        return X.loc[:,self.selected_features]\n",
    "\n",
    "    def get_feature_names_out(self):\n",
    "        return self.selected_features"
   ]
  },
  {
   "cell_type": "code",
   "execution_count": null,
   "id": "ac0bdd46-0687-4fdb-a8d4-efaa25d59881",
   "metadata": {},
   "outputs": [],
   "source": [
    "continuous_pipeline = Pipeline([\n",
    "    ('scaler', StandardScaler()),\n",
    "    ('imputer', SimpleImputer(strategy='mean')),\n",
    "])\n",
    "\n",
    "categorical_pipeline = Pipeline([\n",
    "    ('imputer', SimpleImputer(strategy='most_frequent')),\n",
    "    ('codification', OneHotEncoder(sparse_output=False))\n",
    "])\n",
    "\n",
    "preprocessing_pipeline = ColumnTransformer([\n",
    "        ('continuous', continuous_pipeline, ['avg_products']),\n",
    "        ('categorical', categorical_pipeline, ['tenure_category'])\n",
    "    ],\n",
    "    remainder = 'drop' \n",
    ")\n",
    "\n",
    "pipeline = Pipeline([\n",
    "    ('preprocess', preprocessing_pipeline),\n",
    "    ('feature_selection', myFeatureSelector(n_features=3)),\n",
    "    ('classifier', LogisticRegression(random_state=42))])\n",
    "\n",
    "pipeline.set_output(transform=\"pandas\")\n",
    "\n",
    "my_param_grid = [\n",
    "    {\n",
    "     'feature_selection__n_features': [1,2,3],\n",
    "     'classifier': [RandomForestClassifier()],\n",
    "     'classifier__n_estimators': [10, 50, 100],\n",
    "    },\n",
    "    {\n",
    "     'feature_selection__n_features': [1,2,3],\n",
    "     'classifier': [LogisticRegression(random_state=42)],\n",
    "     'classifier__C': [0.01, 0.1, 1.0, 10.0, 100.0]\n",
    "    }\n",
    "]\n",
    "\n",
    "cv = GridSearchCV(pipeline, \n",
    "                  param_grid = my_param_grid,\n",
    "                  scoring = 'accuracy', refit = True,\n",
    "                  cv = 3,\n",
    "                 return_train_score=True)\n",
    "\n",
    "cv.fit(X_train,y_train)\n",
    "\n",
    "cv_results = pd.DataFrame(cv.cv_results_)\n",
    "display(cv_results[\n",
    "        ['param_feature_selection__n_features','param_classifier','param_classifier__n_estimators', \n",
    "         'param_classifier__C', 'mean_train_score', 'mean_test_score', \n",
    "         'rank_test_score']].sort_values(by=\"rank_test_score\").head(3))\n",
    "print(cv.best_estimator_.get_params())\n",
    "\n",
    "\n",
    "# WATCH OUT!\n",
    "with open(os.path.join('pkl','round_8','pipeline.pkl'),'wb') as f:\n",
    "    pickle.dump(cv.best_estimator_,f)\n",
    "\n",
    "pipeline"
   ]
  },
  {
   "cell_type": "code",
   "execution_count": null,
   "id": "21771476-bf9d-4bf7-bd07-124521de0343",
   "metadata": {},
   "outputs": [],
   "source": []
  },
  {
   "cell_type": "code",
   "execution_count": null,
   "id": "71be67c5-8f62-4601-b0a0-8372a2b8b04f",
   "metadata": {},
   "outputs": [],
   "source": []
  }
 ],
 "metadata": {
  "kernelspec": {
   "display_name": "Python 3 (ipykernel)",
   "language": "python",
   "name": "python3"
  },
  "language_info": {
   "codemirror_mode": {
    "name": "ipython",
    "version": 3
   },
   "file_extension": ".py",
   "mimetype": "text/x-python",
   "name": "python",
   "nbconvert_exporter": "python",
   "pygments_lexer": "ipython3",
   "version": "3.9.6"
  }
 },
 "nbformat": 4,
 "nbformat_minor": 5
}
